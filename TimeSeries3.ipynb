{
  "nbformat": 4,
  "nbformat_minor": 0,
  "metadata": {
    "colab": {
      "name": "TimeSeries3.ipynb",
      "version": "0.3.2",
      "provenance": [],
      "collapsed_sections": [],
      "include_colab_link": true
    },
    "kernelspec": {
      "name": "python3",
      "display_name": "Python 3"
    }
  },
  "cells": [
    {
      "cell_type": "markdown",
      "metadata": {
        "id": "view-in-github",
        "colab_type": "text"
      },
      "source": [
        "<a href=\"https://colab.research.google.com/github/CaptainAshis/Time_Series_Python-SQL/blob/master/TimeSeries3.ipynb\" target=\"_parent\"><img src=\"https://colab.research.google.com/assets/colab-badge.svg\" alt=\"Open In Colab\"/></a>"
      ]
    },
    {
      "cell_type": "code",
      "metadata": {
        "id": "QxxL8t1GopxE",
        "colab_type": "code",
        "colab": {}
      },
      "source": [
        "import pandas as pd\n",
        "import numpy as np\n",
        "%matplotlib inline"
      ],
      "execution_count": 0,
      "outputs": []
    },
    {
      "cell_type": "code",
      "metadata": {
        "id": "DSDV8RJPozxb",
        "colab_type": "code",
        "outputId": "b3316cbb-3218-4829-8695-fcdf9ef09f3e",
        "colab": {
          "base_uri": "https://localhost:8080/",
          "height": 129
        }
      },
      "source": [
        "from google.colab import drive\n",
        "drive.mount('/content/drive')"
      ],
      "execution_count": 0,
      "outputs": [
        {
          "output_type": "stream",
          "text": [
            "Go to this URL in a browser: https://accounts.google.com/o/oauth2/auth?client_id=947318989803-6bn6qk8qdgf4n4g3pfee6491hc0brc4i.apps.googleusercontent.com&redirect_uri=urn%3Aietf%3Awg%3Aoauth%3A2.0%3Aoob&scope=email%20https%3A%2F%2Fwww.googleapis.com%2Fauth%2Fdocs.test%20https%3A%2F%2Fwww.googleapis.com%2Fauth%2Fdrive%20https%3A%2F%2Fwww.googleapis.com%2Fauth%2Fdrive.photos.readonly%20https%3A%2F%2Fwww.googleapis.com%2Fauth%2Fpeopleapi.readonly&response_type=code\n",
            "\n",
            "Enter your authorization code:\n",
            "··········\n",
            "Mounted at /content/drive\n"
          ],
          "name": "stdout"
        }
      ]
    },
    {
      "cell_type": "code",
      "metadata": {
        "id": "Sh_R5RRCo2Dz",
        "colab_type": "code",
        "colab": {}
      },
      "source": [
        "from statsmodels.tsa.ar_model import AR,ARResults"
      ],
      "execution_count": 0,
      "outputs": []
    },
    {
      "cell_type": "code",
      "metadata": {
        "id": "buib6RoVo4mr",
        "colab_type": "code",
        "outputId": "5ca2345b-657f-41c9-89ef-658a69f81f6b",
        "colab": {
          "base_uri": "https://localhost:8080/",
          "height": 35
        }
      },
      "source": [
        "%cd drive/'My Drive'/amex/"
      ],
      "execution_count": 0,
      "outputs": [
        {
          "output_type": "stream",
          "text": [
            "/content/drive/My Drive/amex\n"
          ],
          "name": "stdout"
        }
      ]
    },
    {
      "cell_type": "code",
      "metadata": {
        "id": "fLoZmQ4muQ3D",
        "colab_type": "code",
        "colab": {}
      },
      "source": [
        "# ls"
      ],
      "execution_count": 0,
      "outputs": []
    },
    {
      "cell_type": "code",
      "metadata": {
        "id": "Q1etuzmetX-u",
        "colab_type": "code",
        "colab": {}
      },
      "source": [
        "# Non- stationary dataset-Seasonal\n",
        "df1=pd.read_csv('airline.csv',index_col='Month',parse_dates=True)\n",
        "\n",
        "df1.index.freq='MS'"
      ],
      "execution_count": 0,
      "outputs": []
    },
    {
      "cell_type": "code",
      "metadata": {
        "id": "quLt39YntzHS",
        "colab_type": "code",
        "colab": {}
      },
      "source": [
        "# Stationary dataset- Non seasonal\n",
        "df2=pd.read_csv('femaleBirth.csv',index_col='Date',parse_dates=True)\n",
        "\n",
        "df2.index.freq='D'"
      ],
      "execution_count": 0,
      "outputs": []
    },
    {
      "cell_type": "code",
      "metadata": {
        "id": "PYeT2P5RuZ9u",
        "colab_type": "code",
        "outputId": "9f4c013c-4fdf-40bc-a9b6-0b56f632ea3f",
        "colab": {
          "base_uri": "https://localhost:8080/",
          "height": 534
        }
      },
      "source": [
        "!pip install pmdarima\n",
        "# import pmdarima"
      ],
      "execution_count": 0,
      "outputs": [
        {
          "output_type": "stream",
          "text": [
            "Collecting pmdarima\n",
            "\u001b[?25l  Downloading https://files.pythonhosted.org/packages/28/1d/1cf4dd83f3c129774343a642d4d42f9ad727d0d02f757893ea9c67514d78/pmdarima-1.2.1-cp36-cp36m-manylinux1_x86_64.whl (913kB)\n",
            "\r\u001b[K     |▍                               | 10kB 16.4MB/s eta 0:00:01\r\u001b[K     |▊                               | 20kB 3.1MB/s eta 0:00:01\r\u001b[K     |█                               | 30kB 4.4MB/s eta 0:00:01\r\u001b[K     |█▍                              | 40kB 2.9MB/s eta 0:00:01\r\u001b[K     |█▉                              | 51kB 3.6MB/s eta 0:00:01\r\u001b[K     |██▏                             | 61kB 4.3MB/s eta 0:00:01\r\u001b[K     |██▌                             | 71kB 4.9MB/s eta 0:00:01\r\u001b[K     |██▉                             | 81kB 5.6MB/s eta 0:00:01\r\u001b[K     |███▎                            | 92kB 6.2MB/s eta 0:00:01\r\u001b[K     |███▋                            | 102kB 4.8MB/s eta 0:00:01\r\u001b[K     |████                            | 112kB 4.8MB/s eta 0:00:01\r\u001b[K     |████▎                           | 122kB 4.8MB/s eta 0:00:01\r\u001b[K     |████▋                           | 133kB 4.8MB/s eta 0:00:01\r\u001b[K     |█████                           | 143kB 4.8MB/s eta 0:00:01\r\u001b[K     |█████▍                          | 153kB 4.8MB/s eta 0:00:01\r\u001b[K     |█████▊                          | 163kB 4.8MB/s eta 0:00:01\r\u001b[K     |██████                          | 174kB 4.8MB/s eta 0:00:01\r\u001b[K     |██████▌                         | 184kB 4.8MB/s eta 0:00:01\r\u001b[K     |██████▉                         | 194kB 4.8MB/s eta 0:00:01\r\u001b[K     |███████▏                        | 204kB 4.8MB/s eta 0:00:01\r\u001b[K     |███████▌                        | 215kB 4.8MB/s eta 0:00:01\r\u001b[K     |████████                        | 225kB 4.8MB/s eta 0:00:01\r\u001b[K     |████████▎                       | 235kB 4.8MB/s eta 0:00:01\r\u001b[K     |████████▋                       | 245kB 4.8MB/s eta 0:00:01\r\u001b[K     |█████████                       | 256kB 4.8MB/s eta 0:00:01\r\u001b[K     |█████████▎                      | 266kB 4.8MB/s eta 0:00:01\r\u001b[K     |█████████▊                      | 276kB 4.8MB/s eta 0:00:01\r\u001b[K     |██████████                      | 286kB 4.8MB/s eta 0:00:01\r\u001b[K     |██████████▍                     | 296kB 4.8MB/s eta 0:00:01\r\u001b[K     |██████████▊                     | 307kB 4.8MB/s eta 0:00:01\r\u001b[K     |███████████▏                    | 317kB 4.8MB/s eta 0:00:01\r\u001b[K     |███████████▌                    | 327kB 4.8MB/s eta 0:00:01\r\u001b[K     |███████████▉                    | 337kB 4.8MB/s eta 0:00:01\r\u001b[K     |████████████▏                   | 348kB 4.8MB/s eta 0:00:01\r\u001b[K     |████████████▌                   | 358kB 4.8MB/s eta 0:00:01\r\u001b[K     |█████████████                   | 368kB 4.8MB/s eta 0:00:01\r\u001b[K     |█████████████▎                  | 378kB 4.8MB/s eta 0:00:01\r\u001b[K     |█████████████▋                  | 389kB 4.8MB/s eta 0:00:01\r\u001b[K     |██████████████                  | 399kB 4.8MB/s eta 0:00:01\r\u001b[K     |██████████████▍                 | 409kB 4.8MB/s eta 0:00:01\r\u001b[K     |██████████████▊                 | 419kB 4.8MB/s eta 0:00:01\r\u001b[K     |███████████████                 | 430kB 4.8MB/s eta 0:00:01\r\u001b[K     |███████████████▍                | 440kB 4.8MB/s eta 0:00:01\r\u001b[K     |███████████████▉                | 450kB 4.8MB/s eta 0:00:01\r\u001b[K     |████████████████▏               | 460kB 4.8MB/s eta 0:00:01\r\u001b[K     |████████████████▌               | 471kB 4.8MB/s eta 0:00:01\r\u001b[K     |████████████████▉               | 481kB 4.8MB/s eta 0:00:01\r\u001b[K     |█████████████████▏              | 491kB 4.8MB/s eta 0:00:01\r\u001b[K     |█████████████████▋              | 501kB 4.8MB/s eta 0:00:01\r\u001b[K     |██████████████████              | 512kB 4.8MB/s eta 0:00:01\r\u001b[K     |██████████████████▎             | 522kB 4.8MB/s eta 0:00:01\r\u001b[K     |██████████████████▋             | 532kB 4.8MB/s eta 0:00:01\r\u001b[K     |███████████████████             | 542kB 4.8MB/s eta 0:00:01\r\u001b[K     |███████████████████▍            | 552kB 4.8MB/s eta 0:00:01\r\u001b[K     |███████████████████▊            | 563kB 4.8MB/s eta 0:00:01\r\u001b[K     |████████████████████            | 573kB 4.8MB/s eta 0:00:01\r\u001b[K     |████████████████████▍           | 583kB 4.8MB/s eta 0:00:01\r\u001b[K     |████████████████████▉           | 593kB 4.8MB/s eta 0:00:01\r\u001b[K     |█████████████████████▏          | 604kB 4.8MB/s eta 0:00:01\r\u001b[K     |█████████████████████▌          | 614kB 4.8MB/s eta 0:00:01\r\u001b[K     |█████████████████████▉          | 624kB 4.8MB/s eta 0:00:01\r\u001b[K     |██████████████████████▎         | 634kB 4.8MB/s eta 0:00:01\r\u001b[K     |██████████████████████▋         | 645kB 4.8MB/s eta 0:00:01\r\u001b[K     |███████████████████████         | 655kB 4.8MB/s eta 0:00:01\r\u001b[K     |███████████████████████▎        | 665kB 4.8MB/s eta 0:00:01\r\u001b[K     |███████████████████████▊        | 675kB 4.8MB/s eta 0:00:01\r\u001b[K     |████████████████████████        | 686kB 4.8MB/s eta 0:00:01\r\u001b[K     |████████████████████████▍       | 696kB 4.8MB/s eta 0:00:01\r\u001b[K     |████████████████████████▊       | 706kB 4.8MB/s eta 0:00:01\r\u001b[K     |█████████████████████████       | 716kB 4.8MB/s eta 0:00:01\r\u001b[K     |█████████████████████████▌      | 727kB 4.8MB/s eta 0:00:01\r\u001b[K     |█████████████████████████▉      | 737kB 4.8MB/s eta 0:00:01\r\u001b[K     |██████████████████████████▏     | 747kB 4.8MB/s eta 0:00:01\r\u001b[K     |██████████████████████████▌     | 757kB 4.8MB/s eta 0:00:01\r\u001b[K     |███████████████████████████     | 768kB 4.8MB/s eta 0:00:01\r\u001b[K     |███████████████████████████▎    | 778kB 4.8MB/s eta 0:00:01\r\u001b[K     |███████████████████████████▋    | 788kB 4.8MB/s eta 0:00:01\r\u001b[K     |████████████████████████████    | 798kB 4.8MB/s eta 0:00:01\r\u001b[K     |████████████████████████████▍   | 808kB 4.8MB/s eta 0:00:01\r\u001b[K     |████████████████████████████▊   | 819kB 4.8MB/s eta 0:00:01\r\u001b[K     |█████████████████████████████   | 829kB 4.8MB/s eta 0:00:01\r\u001b[K     |█████████████████████████████▍  | 839kB 4.8MB/s eta 0:00:01\r\u001b[K     |█████████████████████████████▊  | 849kB 4.8MB/s eta 0:00:01\r\u001b[K     |██████████████████████████████▏ | 860kB 4.8MB/s eta 0:00:01\r\u001b[K     |██████████████████████████████▌ | 870kB 4.8MB/s eta 0:00:01\r\u001b[K     |██████████████████████████████▉ | 880kB 4.8MB/s eta 0:00:01\r\u001b[K     |███████████████████████████████▏| 890kB 4.8MB/s eta 0:00:01\r\u001b[K     |███████████████████████████████▋| 901kB 4.8MB/s eta 0:00:01\r\u001b[K     |████████████████████████████████| 911kB 4.8MB/s eta 0:00:01\r\u001b[K     |████████████████████████████████| 921kB 4.8MB/s \n",
            "\u001b[?25hRequirement already satisfied: pandas>=0.19 in /usr/local/lib/python3.6/dist-packages (from pmdarima) (0.24.2)\n",
            "Requirement already satisfied: joblib>=0.11 in /usr/local/lib/python3.6/dist-packages (from pmdarima) (0.13.2)\n",
            "Requirement already satisfied: six>=1.5 in /usr/local/lib/python3.6/dist-packages (from pmdarima) (1.12.0)\n",
            "Requirement already satisfied: scikit-learn>=0.19 in /usr/local/lib/python3.6/dist-packages (from pmdarima) (0.21.2)\n",
            "Requirement already satisfied: statsmodels>=0.9.0 in /usr/local/lib/python3.6/dist-packages (from pmdarima) (0.10.0)\n",
            "Requirement already satisfied: numpy>=1.15 in /usr/local/lib/python3.6/dist-packages (from pmdarima) (1.16.4)\n",
            "Requirement already satisfied: Cython>=0.29 in /usr/local/lib/python3.6/dist-packages (from pmdarima) (0.29.10)\n",
            "Collecting scipy<1.3,>=1.2 (from pmdarima)\n",
            "\u001b[?25l  Downloading https://files.pythonhosted.org/packages/83/69/20c8f3b7efe362093dff891239551ff90d4c463b5f52676e2694fea09442/scipy-1.2.2-cp36-cp36m-manylinux1_x86_64.whl (24.8MB)\n",
            "\u001b[K     |████████████████████████████████| 24.8MB 33.5MB/s \n",
            "\u001b[?25hRequirement already satisfied: pytz>=2011k in /usr/local/lib/python3.6/dist-packages (from pandas>=0.19->pmdarima) (2018.9)\n",
            "Requirement already satisfied: python-dateutil>=2.5.0 in /usr/local/lib/python3.6/dist-packages (from pandas>=0.19->pmdarima) (2.5.3)\n",
            "Requirement already satisfied: patsy>=0.4.0 in /usr/local/lib/python3.6/dist-packages (from statsmodels>=0.9.0->pmdarima) (0.5.1)\n",
            "\u001b[31mERROR: albumentations 0.1.12 has requirement imgaug<0.2.7,>=0.2.5, but you'll have imgaug 0.2.9 which is incompatible.\u001b[0m\n",
            "Installing collected packages: scipy, pmdarima\n",
            "  Found existing installation: scipy 1.3.0\n",
            "    Uninstalling scipy-1.3.0:\n",
            "      Successfully uninstalled scipy-1.3.0\n",
            "Successfully installed pmdarima-1.2.1 scipy-1.2.2\n"
          ],
          "name": "stdout"
        },
        {
          "output_type": "display_data",
          "data": {
            "application/vnd.colab-display-data+json": {
              "pip_warning": {
                "packages": [
                  "scipy"
                ]
              }
            }
          },
          "metadata": {
            "tags": []
          }
        }
      ]
    },
    {
      "cell_type": "code",
      "metadata": {
        "id": "f0JP7N32ujvg",
        "colab_type": "code",
        "colab": {}
      },
      "source": [
        "from pmdarima import auto_arima"
      ],
      "execution_count": 0,
      "outputs": []
    },
    {
      "cell_type": "code",
      "metadata": {
        "id": "xBGaJySpuov0",
        "colab_type": "code",
        "colab": {}
      },
      "source": [
        "import warnings\n",
        "warnings.filterwarnings('ignore')"
      ],
      "execution_count": 0,
      "outputs": []
    },
    {
      "cell_type": "code",
      "metadata": {
        "id": "6AYqQSXTvyt3",
        "colab_type": "code",
        "outputId": "b2bf6554-5a25-4e34-de3d-6d776e956805",
        "colab": {
          "base_uri": "https://localhost:8080/",
          "height": 1000
        }
      },
      "source": [
        "help(auto_arima)"
      ],
      "execution_count": 0,
      "outputs": [
        {
          "output_type": "stream",
          "text": [
            "Help on function auto_arima in module pmdarima.arima.auto:\n",
            "\n",
            "auto_arima(y, exogenous=None, start_p=2, d=None, start_q=2, max_p=5, max_d=2, max_q=5, start_P=1, D=None, start_Q=1, max_P=2, max_D=1, max_Q=2, max_order=10, m=1, seasonal=True, stationary=False, information_criterion='aic', alpha=0.05, test='kpss', seasonal_test='ocsb', stepwise=True, n_jobs=1, start_params=None, trend=None, method=None, transparams=True, solver='lbfgs', maxiter=None, disp=0, callback=None, offset_test_args=None, seasonal_test_args=None, suppress_warnings=False, error_action='warn', trace=False, random=False, random_state=None, n_fits=10, return_valid_fits=False, out_of_sample_size=0, scoring='mse', scoring_args=None, with_intercept=True, **fit_args)\n",
            "    Automatically discover the optimal order for an ARIMA model.\n",
            "    \n",
            "    The auto-ARIMA process seeks to identify the most optimal\n",
            "    parameters for an ``ARIMA`` model, settling on a single fitted ARIMA model.\n",
            "    This process is based on the commonly-used R function,\n",
            "    ``forecast::auto.arima`` [3].\n",
            "    \n",
            "    Auto-ARIMA works by conducting differencing tests (i.e.,\n",
            "    Kwiatkowski–Phillips–Schmidt–Shin, Augmented Dickey-Fuller or\n",
            "    Phillips–Perron) to determine the order of differencing, ``d``, and then\n",
            "    fitting models within ranges of defined ``start_p``, ``max_p``,\n",
            "    ``start_q``, ``max_q`` ranges. If the ``seasonal`` optional is enabled,\n",
            "    auto-ARIMA also seeks to identify the optimal ``P`` and ``Q`` hyper-\n",
            "    parameters after conducting the Canova-Hansen to determine the optimal\n",
            "    order of seasonal differencing, ``D``.\n",
            "    \n",
            "    In order to find the best model, auto-ARIMA optimizes for a given\n",
            "    ``information_criterion``, one of ('aic', 'aicc', 'bic', 'hqic', 'oob')\n",
            "    (Akaike Information Criterion, Corrected Akaike Information Criterion,\n",
            "    Bayesian Information Criterion, Hannan-Quinn Information Criterion, or\n",
            "    \"out of bag\"--for validation scoring--respectively) and returns the ARIMA\n",
            "    which minimizes the value.\n",
            "    \n",
            "    Note that due to stationarity issues, auto-ARIMA might not find a\n",
            "    suitable model that will converge. If this is the case, a ``ValueError``\n",
            "    will be thrown suggesting stationarity-inducing measures be taken prior\n",
            "    to re-fitting or that a new range of ``order`` values be selected. Non-\n",
            "    stepwise (i.e., essentially a grid search) selection can be slow,\n",
            "    especially for seasonal data. Stepwise algorithm is outlined in Hyndman and\n",
            "    Khandakar (2008).\n",
            "    \n",
            "    Parameters\n",
            "    ----------\n",
            "    y : array-like or iterable, shape=(n_samples,)\n",
            "        The time-series to which to fit the ``ARIMA`` estimator. This may\n",
            "        either be a Pandas ``Series`` object (statsmodels can internally\n",
            "        use the dates in the index), or a numpy array. This should be a\n",
            "        one-dimensional array of floats, and should not contain any\n",
            "        ``np.nan`` or ``np.inf`` values.\n",
            "    \n",
            "    exogenous : array-like, shape=[n_obs, n_vars], optional (default=None)\n",
            "        An optional 2-d array of exogenous variables. If provided, these\n",
            "        variables are used as additional features in the regression\n",
            "        operation. This should not include a constant or trend. Note that\n",
            "        if an ``ARIMA`` is fit on exogenous features, it must be provided\n",
            "        exogenous features for making predictions.\n",
            "    \n",
            "    start_p : int, optional (default=2)\n",
            "        The starting value of ``p``, the order (or number of time lags)\n",
            "        of the auto-regressive (\"AR\") model. Must be a positive integer.\n",
            "    \n",
            "    d : int, optional (default=None)\n",
            "        The order of first-differencing. If None (by default), the value\n",
            "        will automatically be selected based on the results of the ``test``\n",
            "        (i.e., either the Kwiatkowski–Phillips–Schmidt–Shin, Augmented\n",
            "        Dickey-Fuller or the Phillips–Perron test will be conducted to find\n",
            "        the most probable value). Must be a positive integer or None. Note\n",
            "        that if ``d`` is None, the runtime could be significantly longer.\n",
            "    \n",
            "    start_q : int, optional (default=2)\n",
            "        The starting value of ``q``, the order of the moving-average\n",
            "        (\"MA\") model. Must be a positive integer.\n",
            "    \n",
            "    max_p : int, optional (default=5)\n",
            "        The maximum value of ``p``, inclusive. Must be a positive integer\n",
            "        greater than or equal to ``start_p``.\n",
            "    \n",
            "    max_d : int, optional (default=2)\n",
            "        The maximum value of ``d``, or the maximum number of non-seasonal\n",
            "        differences. Must be a positive integer greater than or equal to ``d``.\n",
            "    \n",
            "    max_q : int, optional (default=5)\n",
            "        The maximum value of ``q``, inclusive. Must be a positive integer\n",
            "        greater than ``start_q``.\n",
            "    \n",
            "    start_P : int, optional (default=1)\n",
            "        The starting value of ``P``, the order of the auto-regressive portion\n",
            "        of the seasonal model.\n",
            "    \n",
            "    D : int, optional (default=None)\n",
            "        The order of the seasonal differencing. If None (by default, the value\n",
            "        will automatically be selected based on the results of the\n",
            "        ``seasonal_test``. Must be a positive integer or None.\n",
            "    \n",
            "    start_Q : int, optional (default=1)\n",
            "        The starting value of ``Q``, the order of the moving-average portion\n",
            "        of the seasonal model.\n",
            "    \n",
            "    max_P : int, optional (default=2)\n",
            "        The maximum value of ``P``, inclusive. Must be a positive integer\n",
            "        greater than ``start_P``.\n",
            "    \n",
            "    max_D : int, optional (default=1)\n",
            "        The maximum value of ``D``. Must be a positive integer greater\n",
            "        than ``D``.\n",
            "    \n",
            "    max_Q : int, optional (default=2)\n",
            "        The maximum value of ``Q``, inclusive. Must be a positive integer\n",
            "        greater than ``start_Q``.\n",
            "    \n",
            "    max_order : int, optional (default=10)\n",
            "        If the sum of ``p`` and ``q`` is >= ``max_order``, a model will\n",
            "        *not* be fit with those parameters, but will progress to the next\n",
            "        combination. Default is 5. If ``max_order`` is None, it means there\n",
            "        are no constraints on maximum order.\n",
            "    \n",
            "    m : int, optional (default=1)\n",
            "        The period for seasonal differencing, ``m`` refers to the number of\n",
            "        periods in each season. For example, ``m`` is 4 for quarterly data, 12\n",
            "        for monthly data, or 1 for annual (non-seasonal) data. Default is 1.\n",
            "        Note that if ``m`` == 1 (i.e., is non-seasonal), ``seasonal`` will be\n",
            "        set to False. For more information on setting this parameter, see\n",
            "        :ref:`period`.\n",
            "    \n",
            "    seasonal : bool, optional (default=True)\n",
            "        Whether to fit a seasonal ARIMA. Default is True. Note that if\n",
            "        ``seasonal`` is True and ``m`` == 1, ``seasonal`` will be set to False.\n",
            "    \n",
            "    stationary : bool, optional (default=False)\n",
            "        Whether the time-series is stationary and ``d`` should be set to zero.\n",
            "    \n",
            "    information_criterion : str, optional (default='aic')\n",
            "        The information criterion used to select the best ARIMA model. One of\n",
            "        ``pmdarima.arima.auto_arima.VALID_CRITERIA``, ('aic', 'bic', 'hqic',\n",
            "        'oob').\n",
            "    \n",
            "    alpha : float, optional (default=0.05)\n",
            "        Level of the test for testing significance.\n",
            "    \n",
            "    test : str, optional (default='kpss')\n",
            "        Type of unit root test to use in order to detect stationarity if\n",
            "        ``stationary`` is False and ``d`` is None. Default is 'kpss'\n",
            "        (Kwiatkowski–Phillips–Schmidt–Shin).\n",
            "    \n",
            "    seasonal_test : str, optional (default='ocsb')\n",
            "        This determines which seasonal unit root test is used if ``seasonal``\n",
            "        is True and ``D`` is None. Default is 'OCSB'.\n",
            "    \n",
            "    stepwise : bool, optional (default=True)\n",
            "        Whether to use the stepwise algorithm outlined in Hyndman and Khandakar\n",
            "        (2008) to identify the optimal model parameters. The stepwise algorithm\n",
            "        can be significantly faster than fitting all (or a ``random`` subset\n",
            "        of) hyper-parameter combinations and is less likely to over-fit\n",
            "        the model.\n",
            "    \n",
            "    n_jobs : int, optional (default=1)\n",
            "        The number of models to fit in parallel in the case of a grid search\n",
            "        (``stepwise=False``). Default is 1, but -1 can be used to designate\n",
            "        \"as many as possible\".\n",
            "    \n",
            "    start_params : array-like, optional (default=None)\n",
            "        Starting parameters for ``ARMA(p,q)``.  If None, the default is given\n",
            "        by ``ARMA._fit_start_params``.\n",
            "    \n",
            "    transparams : bool, optional (default=True)\n",
            "        Whether or not to transform the parameters to ensure stationarity.\n",
            "        Uses the transformation suggested in Jones (1980).  If False,\n",
            "        no checking for stationarity or invertibility is done.\n",
            "    \n",
            "    method : str, one of ('css-mle','mle','css'), optional (default=None)\n",
            "        This is the loglikelihood to maximize.  If \"css-mle\", the\n",
            "        conditional sum of squares likelihood is maximized and its values\n",
            "        are used as starting values for the computation of the exact\n",
            "        likelihood via the Kalman filter.  If \"mle\", the exact likelihood\n",
            "        is maximized via the Kalman Filter.  If \"css\" the conditional sum\n",
            "        of squares likelihood is maximized.  All three methods use\n",
            "        `start_params` as starting parameters.  See above for more\n",
            "        information. If fitting a seasonal ARIMA, the default is 'lbfgs'\n",
            "    \n",
            "    trend : str or None, optional (default=None)\n",
            "        The trend parameter. If ``with_intercept`` is True, ``trend`` will be\n",
            "        used. If ``with_intercept`` is False, the trend will be set to a no-\n",
            "        intercept value.\n",
            "    \n",
            "    solver : str or None, optional (default='lbfgs')\n",
            "        Solver to be used.  The default is 'lbfgs' (limited memory\n",
            "        Broyden-Fletcher-Goldfarb-Shanno).  Other choices are 'bfgs',\n",
            "        'newton' (Newton-Raphson), 'nm' (Nelder-Mead), 'cg' -\n",
            "        (conjugate gradient), 'ncg' (non-conjugate gradient), and\n",
            "        'powell'. By default, the limited memory BFGS uses m=12 to\n",
            "        approximate the Hessian, projected gradient tolerance of 1e-8 and\n",
            "        factr = 1e2. You can change these by using kwargs.\n",
            "    \n",
            "    maxiter : int, optional (default=None)\n",
            "        The maximum number of function evaluations. Statsmodels defaults this\n",
            "        value to 50 for SARIMAX models and 500 for ARIMA and ARMA models. If\n",
            "        passed as None, will use the seasonal order to determine which to use\n",
            "        (50 for seasonal, 500 otherwise).\n",
            "    \n",
            "    disp : int, optional (default=0)\n",
            "        If True, convergence information is printed.  For the default\n",
            "        'lbfgs' ``solver``, disp controls the frequency of the output during\n",
            "        the iterations. disp < 0 means no output in this case.\n",
            "    \n",
            "    callback : callable, optional (default=None)\n",
            "        Called after each iteration as callback(xk) where xk is the current\n",
            "        parameter vector. This is only used in non-seasonal ARIMA models.\n",
            "    \n",
            "    offset_test_args : dict, optional (default=None)\n",
            "        The args to pass to the constructor of the offset (``d``) test. See\n",
            "        ``pmdarima.arima.stationarity`` for more details.\n",
            "    \n",
            "    seasonal_test_args : dict, optional (default=None)\n",
            "        The args to pass to the constructor of the seasonal offset (``D``)\n",
            "        test. See ``pmdarima.arima.seasonality`` for more details.\n",
            "    \n",
            "    suppress_warnings : bool, optional (default=False)\n",
            "        Many warnings might be thrown inside of statsmodels. If\n",
            "        ``suppress_warnings`` is True, all of the warnings coming from\n",
            "        ``ARIMA`` will be squelched.\n",
            "    \n",
            "    error_action : str, optional (default='warn')\n",
            "        If unable to fit an ``ARIMA`` due to stationarity issues, whether to\n",
            "        warn ('warn'), raise the ``ValueError`` ('raise') or ignore ('ignore').\n",
            "        Note that the default behavior is to warn, and fits that fail will be\n",
            "        returned as None. This is the recommended behavior, as statsmodels\n",
            "        ARIMA and SARIMAX models hit bugs periodically that can cause\n",
            "        an otherwise healthy parameter combination to fail for reasons not\n",
            "        related to pmdarima.\n",
            "    \n",
            "    trace : bool, optional (default=False)\n",
            "        Whether to print status on the fits. Note that this can be\n",
            "        very verbose...\n",
            "    \n",
            "    random : bool, optional (default=False)\n",
            "        Similar to grid searches, ``auto_arima`` provides the capability to\n",
            "        perform a \"random search\" over a hyper-parameter space. If ``random``\n",
            "        is True, rather than perform an exhaustive search or ``stepwise``\n",
            "        search, only ``n_fits`` ARIMA models will be fit (``stepwise`` must be\n",
            "        False for this option to do anything).\n",
            "    \n",
            "    random_state : int, long or numpy ``RandomState``, optional (default=None)\n",
            "        The PRNG for when ``random=True``. Ensures replicable testing and\n",
            "        results.\n",
            "    \n",
            "    n_fits : int, optional (default=10)\n",
            "        If ``random`` is True and a \"random search\" is going to be performed,\n",
            "        ``n_iter`` is the number of ARIMA models to be fit.\n",
            "    \n",
            "    return_valid_fits : bool, optional (default=False)\n",
            "        If True, will return all valid ARIMA fits in a list. If False (by\n",
            "        default), will only return the best fit.\n",
            "    \n",
            "    out_of_sample_size : int, optional (default=0)\n",
            "        The ``ARIMA`` class can fit only a portion of the data if specified,\n",
            "        in order to retain an \"out of bag\" sample score. This is the\n",
            "        number of examples from the tail of the time series to hold out\n",
            "        and use as validation examples. The model will not be fit on these\n",
            "        samples, but the observations will be added into the model's ``endog``\n",
            "        and ``exog`` arrays so that future forecast values originate from the\n",
            "        end of the endogenous vector.\n",
            "    \n",
            "        For instance::\n",
            "    \n",
            "            y = [0, 1, 2, 3, 4, 5, 6]\n",
            "            out_of_sample_size = 2\n",
            "    \n",
            "            > Fit on: [0, 1, 2, 3, 4]\n",
            "            > Score on: [5, 6]\n",
            "            > Append [5, 6] to end of self.arima_res_.data.endog values\n",
            "    \n",
            "    scoring : str, optional (default='mse')\n",
            "        If performing validation (i.e., if ``out_of_sample_size`` > 0), the\n",
            "        metric to use for scoring the out-of-sample data. One of ('mse', 'mae')\n",
            "    \n",
            "    scoring_args : dict, optional (default=None)\n",
            "        A dictionary of key-word arguments to be passed to the ``scoring``\n",
            "        metric.\n",
            "    \n",
            "    with_intercept : bool, optional (default=True)\n",
            "        Whether to include an intercept term. Default is True.\n",
            "    \n",
            "    **fit_args : dict, optional (default=None)\n",
            "        A dictionary of keyword arguments to pass to the :func:`ARIMA.fit`\n",
            "        method.\n",
            "    \n",
            "    See Also\n",
            "    --------\n",
            "    :func:`pmdarima.arima.ARIMA`\n",
            "    \n",
            "    Notes\n",
            "    -----\n",
            "    * Fitting with `stepwise=False` can prove slower, especially when\n",
            "      `seasonal=True`.\n",
            "    \n",
            "    References\n",
            "    ----------\n",
            "    .. [1] https://wikipedia.org/wiki/Autoregressive_integrated_moving_average\n",
            "    .. [2] R's auto-arima source code: http://bit.ly/2gOh5z2\n",
            "    .. [3] R's auto-arima documentation: http://bit.ly/2wbBvUN\n",
            "\n"
          ],
          "name": "stdout"
        }
      ]
    },
    {
      "cell_type": "markdown",
      "metadata": {
        "id": "cvDV7GNdx7yr",
        "colab_type": "text"
      },
      "source": [
        "seasonal=False , as the descripticve stats that we ran gave us its not a seasonal dataset."
      ]
    },
    {
      "cell_type": "code",
      "metadata": {
        "id": "kc0feVgdv01m",
        "colab_type": "code",
        "outputId": "99d93792-bb43-48e2-c668-777f8fe35288",
        "colab": {
          "base_uri": "https://localhost:8080/",
          "height": 165
        }
      },
      "source": [
        "stepwise_fit=auto_arima(df2['Births'],start_p=0,start_q=0,max_p=6,max_q=3,seasonal=False,trace=True)\n",
        "# "
      ],
      "execution_count": 0,
      "outputs": [
        {
          "output_type": "stream",
          "text": [
            "Fit ARIMA: order=(0, 1, 0); AIC=2650.760, BIC=2658.555, Fit time=0.015 seconds\n",
            "Fit ARIMA: order=(1, 1, 0); AIC=2565.234, BIC=2576.925, Fit time=0.038 seconds\n",
            "Fit ARIMA: order=(0, 1, 1); AIC=2463.584, BIC=2475.275, Fit time=0.054 seconds\n",
            "Fit ARIMA: order=(1, 1, 1); AIC=2460.154, BIC=2475.742, Fit time=0.111 seconds\n",
            "Fit ARIMA: order=(1, 1, 2); AIC=2460.515, BIC=2480.001, Fit time=0.481 seconds\n",
            "Fit ARIMA: order=(2, 1, 2); AIC=2461.876, BIC=2485.259, Fit time=0.674 seconds\n",
            "Fit ARIMA: order=(2, 1, 1); AIC=2461.271, BIC=2480.757, Fit time=0.158 seconds\n",
            "Total fit time: 1.552 seconds\n"
          ],
          "name": "stdout"
        }
      ]
    },
    {
      "cell_type": "markdown",
      "metadata": {
        "id": "oeMhq2V3yuph",
        "colab_type": "text"
      },
      "source": [
        "6*3 =18 models , if included 0 then its 7*4 28 models. Trace=True, shows output of first couple of Arima models that we are trying to fit. Autoarima uses AIC to fit the models as it punishes overcomplicated models. Even after raising the order the value higher and higher , if the AIC remains constant , its gonna stop and not fit every single model in the grid search. HEre it doesnt goes upto max_q=6 as the AIC plateaus."
      ]
    },
    {
      "cell_type": "code",
      "metadata": {
        "id": "5STAyMR4x4Fm",
        "colab_type": "code",
        "outputId": "c8930087-3bb1-4c97-d05b-141c951e588f",
        "colab": {
          "base_uri": "https://localhost:8080/",
          "height": 340
        }
      },
      "source": [
        "stepwise_fit.summary()\n",
        "# It gives us best ARIMA model taht we should use"
      ],
      "execution_count": 0,
      "outputs": [
        {
          "output_type": "execute_result",
          "data": {
            "text/html": [
              "<table class=\"simpletable\">\n",
              "<caption>ARIMA Model Results</caption>\n",
              "<tr>\n",
              "  <th>Dep. Variable:</th>        <td>D.y</td>       <th>  No. Observations:  </th>    <td>364</td>   \n",
              "</tr>\n",
              "<tr>\n",
              "  <th>Model:</th>          <td>ARIMA(1, 1, 1)</td>  <th>  Log Likelihood     </th> <td>-1226.077</td>\n",
              "</tr>\n",
              "<tr>\n",
              "  <th>Method:</th>             <td>css-mle</td>     <th>  S.D. of innovations</th>   <td>7.000</td>  \n",
              "</tr>\n",
              "<tr>\n",
              "  <th>Date:</th>          <td>Thu, 27 Jun 2019</td> <th>  AIC                </th> <td>2460.154</td> \n",
              "</tr>\n",
              "<tr>\n",
              "  <th>Time:</th>              <td>01:26:53</td>     <th>  BIC                </th> <td>2475.742</td> \n",
              "</tr>\n",
              "<tr>\n",
              "  <th>Sample:</th>                <td>1</td>        <th>  HQIC               </th> <td>2466.350</td> \n",
              "</tr>\n",
              "<tr>\n",
              "  <th></th>                       <td> </td>        <th>                     </th>     <td> </td>    \n",
              "</tr>\n",
              "</table>\n",
              "<table class=\"simpletable\">\n",
              "<tr>\n",
              "      <td></td>         <th>coef</th>     <th>std err</th>      <th>z</th>      <th>P>|z|</th>  <th>[0.025</th>    <th>0.975]</th>  \n",
              "</tr>\n",
              "<tr>\n",
              "  <th>const</th>     <td>    0.0152</td> <td>    0.014</td> <td>    1.068</td> <td> 0.286</td> <td>   -0.013</td> <td>    0.043</td>\n",
              "</tr>\n",
              "<tr>\n",
              "  <th>ar.L1.D.y</th> <td>    0.1299</td> <td>    0.056</td> <td>    2.334</td> <td> 0.020</td> <td>    0.021</td> <td>    0.239</td>\n",
              "</tr>\n",
              "<tr>\n",
              "  <th>ma.L1.D.y</th> <td>   -0.9694</td> <td>    0.019</td> <td>  -51.415</td> <td> 0.000</td> <td>   -1.006</td> <td>   -0.932</td>\n",
              "</tr>\n",
              "</table>\n",
              "<table class=\"simpletable\">\n",
              "<caption>Roots</caption>\n",
              "<tr>\n",
              "    <td></td>   <th>            Real</th>  <th>         Imaginary</th> <th>         Modulus</th>  <th>        Frequency</th>\n",
              "</tr>\n",
              "<tr>\n",
              "  <th>AR.1</th> <td>           7.6996</td> <td>          +0.0000j</td> <td>           7.6996</td> <td>           0.0000</td>\n",
              "</tr>\n",
              "<tr>\n",
              "  <th>MA.1</th> <td>           1.0316</td> <td>          +0.0000j</td> <td>           1.0316</td> <td>           0.0000</td>\n",
              "</tr>\n",
              "</table>"
            ],
            "text/plain": [
              "<class 'statsmodels.iolib.summary.Summary'>\n",
              "\"\"\"\n",
              "                             ARIMA Model Results                              \n",
              "==============================================================================\n",
              "Dep. Variable:                    D.y   No. Observations:                  364\n",
              "Model:                 ARIMA(1, 1, 1)   Log Likelihood               -1226.077\n",
              "Method:                       css-mle   S.D. of innovations              7.000\n",
              "Date:                Thu, 27 Jun 2019   AIC                           2460.154\n",
              "Time:                        01:26:53   BIC                           2475.742\n",
              "Sample:                             1   HQIC                          2466.350\n",
              "                                                                              \n",
              "==============================================================================\n",
              "                 coef    std err          z      P>|z|      [0.025      0.975]\n",
              "------------------------------------------------------------------------------\n",
              "const          0.0152      0.014      1.068      0.286      -0.013       0.043\n",
              "ar.L1.D.y      0.1299      0.056      2.334      0.020       0.021       0.239\n",
              "ma.L1.D.y     -0.9694      0.019    -51.415      0.000      -1.006      -0.932\n",
              "                                    Roots                                    \n",
              "=============================================================================\n",
              "                  Real          Imaginary           Modulus         Frequency\n",
              "-----------------------------------------------------------------------------\n",
              "AR.1            7.6996           +0.0000j            7.6996            0.0000\n",
              "MA.1            1.0316           +0.0000j            1.0316            0.0000\n",
              "-----------------------------------------------------------------------------\n",
              "\"\"\""
            ]
          },
          "metadata": {
            "tags": []
          },
          "execution_count": 13
        }
      ]
    },
    {
      "cell_type": "markdown",
      "metadata": {
        "id": "dzIYJZzfz1DE",
        "colab_type": "text"
      },
      "source": [
        "This above grid search approach is the best way to avoid human bias that creeps into while reading the acf and PACF plots."
      ]
    },
    {
      "cell_type": "markdown",
      "metadata": {
        "id": "tPNY5gcL0Pk_",
        "colab_type": "text"
      },
      "source": [
        "# Non- stationary dataset-Seasonal"
      ]
    },
    {
      "cell_type": "code",
      "metadata": {
        "id": "MTHBnfzfz0tg",
        "colab_type": "code",
        "outputId": "866186f5-688d-4832-f2e5-97f85deba4f8",
        "colab": {
          "base_uri": "https://localhost:8080/",
          "height": 368
        }
      },
      "source": [
        "stepwise_fit=auto_arima(df1['Passengers'],start_p=1,start_q=1,max_p=4,max_q=4,seasonal=True,trace=True,m=12)\n",
        "# seasonal=True using dickey fuller test. m = no of periods in each season."
      ],
      "execution_count": 0,
      "outputs": [
        {
          "output_type": "stream",
          "text": [
            "Fit ARIMA: order=(1, 1, 1) seasonal_order=(1, 1, 1, 12); AIC=1024.195, BIC=1041.446, Fit time=1.568 seconds\n",
            "Fit ARIMA: order=(0, 1, 0) seasonal_order=(0, 1, 0, 12); AIC=1033.479, BIC=1039.229, Fit time=0.025 seconds\n",
            "Fit ARIMA: order=(1, 1, 0) seasonal_order=(1, 1, 0, 12); AIC=1022.316, BIC=1033.817, Fit time=0.454 seconds\n",
            "Fit ARIMA: order=(0, 1, 1) seasonal_order=(0, 1, 1, 12); AIC=1022.904, BIC=1034.405, Fit time=0.564 seconds\n",
            "Fit ARIMA: order=(1, 1, 0) seasonal_order=(0, 1, 0, 12); AIC=1022.343, BIC=1030.968, Fit time=0.135 seconds\n",
            "Fit ARIMA: order=(1, 1, 0) seasonal_order=(2, 1, 0, 12); AIC=1021.137, BIC=1035.513, Fit time=1.400 seconds\n",
            "Fit ARIMA: order=(1, 1, 0) seasonal_order=(2, 1, 1, 12); AIC=1017.166, BIC=1034.417, Fit time=4.793 seconds\n",
            "Fit ARIMA: order=(0, 1, 0) seasonal_order=(2, 1, 1, 12); AIC=1033.843, BIC=1048.219, Fit time=4.403 seconds\n",
            "Fit ARIMA: order=(2, 1, 0) seasonal_order=(2, 1, 1, 12); AIC=1018.210, BIC=1038.336, Fit time=5.738 seconds\n",
            "Fit ARIMA: order=(1, 1, 1) seasonal_order=(2, 1, 1, 12); AIC=1017.790, BIC=1037.916, Fit time=5.078 seconds\n",
            "Fit ARIMA: order=(2, 1, 1) seasonal_order=(2, 1, 1, 12); AIC=1015.057, BIC=1038.058, Fit time=8.346 seconds\n",
            "Fit ARIMA: order=(2, 1, 1) seasonal_order=(1, 1, 1, 12); AIC=1017.778, BIC=1037.904, Fit time=2.657 seconds\n",
            "Fit ARIMA: order=(2, 1, 1) seasonal_order=(2, 1, 0, 12); AIC=1017.106, BIC=1037.233, Fit time=5.398 seconds\n",
            "Fit ARIMA: order=(2, 1, 1) seasonal_order=(2, 1, 2, 12); AIC=1020.999, BIC=1046.876, Fit time=8.840 seconds\n",
            "Fit ARIMA: order=(2, 1, 1) seasonal_order=(1, 1, 0, 12); AIC=1017.077, BIC=1034.328, Fit time=2.342 seconds\n",
            "Fit ARIMA: order=(3, 1, 1) seasonal_order=(2, 1, 1, 12); AIC=1018.270, BIC=1044.146, Fit time=7.764 seconds\n",
            "Fit ARIMA: order=(2, 1, 2) seasonal_order=(2, 1, 1, 12); AIC=1015.337, BIC=1041.213, Fit time=7.638 seconds\n",
            "Fit ARIMA: order=(3, 1, 2) seasonal_order=(2, 1, 1, 12); AIC=1019.166, BIC=1047.918, Fit time=7.999 seconds\n",
            "Total fit time: 75.177 seconds\n"
          ],
          "name": "stdout"
        }
      ]
    },
    {
      "cell_type": "code",
      "metadata": {
        "id": "P_dcJZ0tyAYA",
        "colab_type": "code",
        "colab": {}
      },
      "source": [
        "# For some of the simple models it wasnt able to grab the aic , also it has lowercase and upercase p,d,q (order=(1, 1, 1) seasonal_order=(1, 1, 1, 12))"
      ],
      "execution_count": 0,
      "outputs": []
    },
    {
      "cell_type": "code",
      "metadata": {
        "id": "c4TZbmT_16lv",
        "colab_type": "code",
        "outputId": "eaa7e9fa-260f-42d0-cd40-9536790c8448",
        "colab": {
          "base_uri": "https://localhost:8080/",
          "height": 537
        }
      },
      "source": [
        "stepwise_fit.summary()\n",
        "# (2, 1, 1, 12) seasonal components"
      ],
      "execution_count": 0,
      "outputs": [
        {
          "output_type": "execute_result",
          "data": {
            "text/html": [
              "<table class=\"simpletable\">\n",
              "<caption>Statespace Model Results</caption>\n",
              "<tr>\n",
              "  <th>Dep. Variable:</th>                  <td>y</td>               <th>  No. Observations:  </th>    <td>144</td>  \n",
              "</tr>\n",
              "<tr>\n",
              "  <th>Model:</th>           <td>SARIMAX(2, 1, 1)x(2, 1, 1, 12)</td> <th>  Log Likelihood     </th> <td>-499.528</td>\n",
              "</tr>\n",
              "<tr>\n",
              "  <th>Date:</th>                   <td>Thu, 27 Jun 2019</td>        <th>  AIC                </th> <td>1015.057</td>\n",
              "</tr>\n",
              "<tr>\n",
              "  <th>Time:</th>                       <td>01:28:08</td>            <th>  BIC                </th> <td>1038.058</td>\n",
              "</tr>\n",
              "<tr>\n",
              "  <th>Sample:</th>                         <td>0</td>               <th>  HQIC               </th> <td>1024.403</td>\n",
              "</tr>\n",
              "<tr>\n",
              "  <th></th>                             <td> - 144</td>             <th>                     </th>     <td> </td>   \n",
              "</tr>\n",
              "<tr>\n",
              "  <th>Covariance Type:</th>               <td>opg</td>              <th>                     </th>     <td> </td>   \n",
              "</tr>\n",
              "</table>\n",
              "<table class=\"simpletable\">\n",
              "<tr>\n",
              "      <td></td>         <th>coef</th>     <th>std err</th>      <th>z</th>      <th>P>|z|</th>  <th>[0.025</th>    <th>0.975]</th>  \n",
              "</tr>\n",
              "<tr>\n",
              "  <th>intercept</th> <td>    0.0003</td> <td>    0.018</td> <td>    0.019</td> <td> 0.985</td> <td>   -0.035</td> <td>    0.035</td>\n",
              "</tr>\n",
              "<tr>\n",
              "  <th>ar.L1</th>     <td>    0.5262</td> <td>    0.099</td> <td>    5.321</td> <td> 0.000</td> <td>    0.332</td> <td>    0.720</td>\n",
              "</tr>\n",
              "<tr>\n",
              "  <th>ar.L2</th>     <td>    0.2602</td> <td>    0.101</td> <td>    2.575</td> <td> 0.010</td> <td>    0.062</td> <td>    0.458</td>\n",
              "</tr>\n",
              "<tr>\n",
              "  <th>ma.L1</th>     <td>   -0.9745</td> <td>    0.062</td> <td>  -15.749</td> <td> 0.000</td> <td>   -1.096</td> <td>   -0.853</td>\n",
              "</tr>\n",
              "<tr>\n",
              "  <th>ar.S.L12</th>  <td>    0.7239</td> <td>    0.409</td> <td>    1.768</td> <td> 0.077</td> <td>   -0.079</td> <td>    1.526</td>\n",
              "</tr>\n",
              "<tr>\n",
              "  <th>ar.S.L24</th>  <td>    0.2677</td> <td>    0.129</td> <td>    2.079</td> <td> 0.038</td> <td>    0.015</td> <td>    0.520</td>\n",
              "</tr>\n",
              "<tr>\n",
              "  <th>ma.S.L12</th>  <td>   -0.9597</td> <td>    1.099</td> <td>   -0.873</td> <td> 0.382</td> <td>   -3.114</td> <td>    1.194</td>\n",
              "</tr>\n",
              "<tr>\n",
              "  <th>sigma2</th>    <td>  115.2618</td> <td>   70.774</td> <td>    1.629</td> <td> 0.103</td> <td>  -23.452</td> <td>  253.976</td>\n",
              "</tr>\n",
              "</table>\n",
              "<table class=\"simpletable\">\n",
              "<tr>\n",
              "  <th>Ljung-Box (Q):</th>          <td>51.71</td> <th>  Jarque-Bera (JB):  </th> <td>11.53</td>\n",
              "</tr>\n",
              "<tr>\n",
              "  <th>Prob(Q):</th>                <td>0.10</td>  <th>  Prob(JB):          </th> <td>0.00</td> \n",
              "</tr>\n",
              "<tr>\n",
              "  <th>Heteroskedasticity (H):</th> <td>2.72</td>  <th>  Skew:              </th> <td>0.01</td> \n",
              "</tr>\n",
              "<tr>\n",
              "  <th>Prob(H) (two-sided):</th>    <td>0.00</td>  <th>  Kurtosis:          </th> <td>4.45</td> \n",
              "</tr>\n",
              "</table><br/><br/>Warnings:<br/>[1] Covariance matrix calculated using the outer product of gradients (complex-step)."
            ],
            "text/plain": [
              "<class 'statsmodels.iolib.summary.Summary'>\n",
              "\"\"\"\n",
              "                                 Statespace Model Results                                 \n",
              "==========================================================================================\n",
              "Dep. Variable:                                  y   No. Observations:                  144\n",
              "Model:             SARIMAX(2, 1, 1)x(2, 1, 1, 12)   Log Likelihood                -499.528\n",
              "Date:                            Thu, 27 Jun 2019   AIC                           1015.057\n",
              "Time:                                    01:28:08   BIC                           1038.058\n",
              "Sample:                                         0   HQIC                          1024.403\n",
              "                                            - 144                                         \n",
              "Covariance Type:                              opg                                         \n",
              "==============================================================================\n",
              "                 coef    std err          z      P>|z|      [0.025      0.975]\n",
              "------------------------------------------------------------------------------\n",
              "intercept      0.0003      0.018      0.019      0.985      -0.035       0.035\n",
              "ar.L1          0.5262      0.099      5.321      0.000       0.332       0.720\n",
              "ar.L2          0.2602      0.101      2.575      0.010       0.062       0.458\n",
              "ma.L1         -0.9745      0.062    -15.749      0.000      -1.096      -0.853\n",
              "ar.S.L12       0.7239      0.409      1.768      0.077      -0.079       1.526\n",
              "ar.S.L24       0.2677      0.129      2.079      0.038       0.015       0.520\n",
              "ma.S.L12      -0.9597      1.099     -0.873      0.382      -3.114       1.194\n",
              "sigma2       115.2618     70.774      1.629      0.103     -23.452     253.976\n",
              "===================================================================================\n",
              "Ljung-Box (Q):                       51.71   Jarque-Bera (JB):                11.53\n",
              "Prob(Q):                              0.10   Prob(JB):                         0.00\n",
              "Heteroskedasticity (H):               2.72   Skew:                             0.01\n",
              "Prob(H) (two-sided):                  0.00   Kurtosis:                         4.45\n",
              "===================================================================================\n",
              "\n",
              "Warnings:\n",
              "[1] Covariance matrix calculated using the outer product of gradients (complex-step).\n",
              "\"\"\""
            ]
          },
          "metadata": {
            "tags": []
          },
          "execution_count": 16
        }
      ]
    },
    {
      "cell_type": "code",
      "metadata": {
        "id": "TIZ3-h5R17fB",
        "colab_type": "code",
        "colab": {}
      },
      "source": [
        "# arma_order_select_ic. Check out the actual notebook from the paid course."
      ],
      "execution_count": 0,
      "outputs": []
    },
    {
      "cell_type": "code",
      "metadata": {
        "id": "JkC_BhJA2hvg",
        "colab_type": "code",
        "outputId": "3dac5ecf-68ea-40b7-c617-b9018eba2e23",
        "colab": {
          "base_uri": "https://localhost:8080/",
          "height": 238
        }
      },
      "source": [
        "df2.head()"
      ],
      "execution_count": 0,
      "outputs": [
        {
          "output_type": "execute_result",
          "data": {
            "text/html": [
              "<div>\n",
              "<style scoped>\n",
              "    .dataframe tbody tr th:only-of-type {\n",
              "        vertical-align: middle;\n",
              "    }\n",
              "\n",
              "    .dataframe tbody tr th {\n",
              "        vertical-align: top;\n",
              "    }\n",
              "\n",
              "    .dataframe thead th {\n",
              "        text-align: right;\n",
              "    }\n",
              "</style>\n",
              "<table border=\"1\" class=\"dataframe\">\n",
              "  <thead>\n",
              "    <tr style=\"text-align: right;\">\n",
              "      <th></th>\n",
              "      <th>Births</th>\n",
              "    </tr>\n",
              "    <tr>\n",
              "      <th>Date</th>\n",
              "      <th></th>\n",
              "    </tr>\n",
              "  </thead>\n",
              "  <tbody>\n",
              "    <tr>\n",
              "      <th>1959-01-01</th>\n",
              "      <td>35</td>\n",
              "    </tr>\n",
              "    <tr>\n",
              "      <th>1959-01-02</th>\n",
              "      <td>32</td>\n",
              "    </tr>\n",
              "    <tr>\n",
              "      <th>1959-01-03</th>\n",
              "      <td>30</td>\n",
              "    </tr>\n",
              "    <tr>\n",
              "      <th>1959-01-04</th>\n",
              "      <td>31</td>\n",
              "    </tr>\n",
              "    <tr>\n",
              "      <th>1959-01-05</th>\n",
              "      <td>44</td>\n",
              "    </tr>\n",
              "  </tbody>\n",
              "</table>\n",
              "</div>"
            ],
            "text/plain": [
              "            Births\n",
              "Date              \n",
              "1959-01-01      35\n",
              "1959-01-02      32\n",
              "1959-01-03      30\n",
              "1959-01-04      31\n",
              "1959-01-05      44"
            ]
          },
          "metadata": {
            "tags": []
          },
          "execution_count": 18
        }
      ]
    },
    {
      "cell_type": "code",
      "metadata": {
        "id": "Q4kwbom4mirZ",
        "colab_type": "code",
        "colab": {}
      },
      "source": [
        "df2=df2[:120]"
      ],
      "execution_count": 0,
      "outputs": []
    },
    {
      "cell_type": "code",
      "metadata": {
        "id": "mvlVS8-Bmvkv",
        "colab_type": "code",
        "outputId": "69af01a5-395a-4b5a-a1c3-e04aef78170c",
        "colab": {
          "base_uri": "https://localhost:8080/",
          "height": 367
        }
      },
      "source": [
        "df2['Births'].plot(figsize=(12,5))"
      ],
      "execution_count": 0,
      "outputs": [
        {
          "output_type": "execute_result",
          "data": {
            "text/plain": [
              "<matplotlib.axes._subplots.AxesSubplot at 0x7f6f8138ccf8>"
            ]
          },
          "metadata": {
            "tags": []
          },
          "execution_count": 20
        },
        {
          "output_type": "display_data",
          "data": {
            "image/png": "[encoded data removed]",
            "text/plain": [
              "<Figure size 864x360 with 1 Axes>"
            ]
          },
          "metadata": {
            "tags": []
          }
        }
      ]
    },
    {
      "cell_type": "code",
      "metadata": {
        "id": "CZZu2-Avm5fv",
        "colab_type": "code",
        "colab": {}
      },
      "source": [
        "from statsmodels.tsa.stattools import adfuller\n",
        "\n",
        "def adf_test(series,title=''):\n",
        "  \"\"\"Pass in a time series and an optional title, returns an adf report\"\"\"\n",
        "  print(f'Augmented Dickey Fuller Test:{title}')\n",
        "  result=adfuller(series.dropna(),autolag='AIC') # dropna handles the differenced data\n",
        "  \n",
        "  labels=['ADF Test Statistics','p-value','# Lags used','# Observations']\n",
        "  out=pd.Series(result[0:4],index=labels)\n",
        "  \n",
        "  for k , v in result[4].items():\n",
        "    out[f'critical value ({k})']=v\n",
        "    \n",
        "  print(out.to_string()) # to_string() removes the line \"dtype:float64\"\n",
        "  \n",
        "  if result[1]<=0.05:\n",
        "    print(\"Strong evidence against the null hypothesis\")\n",
        "    print(\"Reject the null hypothesis\")\n",
        "    print(\"Data has no unit root and is stationary\")\n",
        "  else:\n",
        "    print(\"Weak evidence against the null hypothesis\")\n",
        "    print(\"Fail the null hypothesis\")\n",
        "    print(\"Data has a unit root and is non-stationary\")"
      ],
      "execution_count": 0,
      "outputs": []
    },
    {
      "cell_type": "code",
      "metadata": {
        "id": "9xwEl-AinGpr",
        "colab_type": "code",
        "outputId": "3b1969f2-5695-404b-88fc-41eebb8e3820",
        "colab": {
          "base_uri": "https://localhost:8080/",
          "height": 220
        }
      },
      "source": [
        "adf_test(df2['Births'])"
      ],
      "execution_count": 0,
      "outputs": [
        {
          "output_type": "stream",
          "text": [
            "Augmented Dickey Fuller Test:\n",
            "ADF Test Statistics    -9.855384e+00\n",
            "p-value                 4.373545e-17\n",
            "# Lags used             0.000000e+00\n",
            "# Observations          1.190000e+02\n",
            "critical value (1%)    -3.486535e+00\n",
            "critical value (5%)    -2.886151e+00\n",
            "critical value (10%)   -2.579896e+00\n",
            "Strong evidence against the null hypothesis\n",
            "Reject the null hypothesis\n",
            "Data has no unit root and is stationary\n"
          ],
          "name": "stdout"
        }
      ]
    },
    {
      "cell_type": "markdown",
      "metadata": {
        "id": "M9mtgXjVnXkO",
        "colab_type": "text"
      },
      "source": [
        "p-value is less than 0.05 hence its stationary"
      ]
    },
    {
      "cell_type": "code",
      "metadata": {
        "id": "n7Z7MKetnKMj",
        "colab_type": "code",
        "outputId": "e72edc6d-f43b-4080-85da-963850b7ba22",
        "colab": {
          "base_uri": "https://localhost:8080/",
          "height": 425
        }
      },
      "source": [
        "auto_arima(df2['Births'],seasonal=False).summary()"
      ],
      "execution_count": 0,
      "outputs": [
        {
          "output_type": "execute_result",
          "data": {
            "text/html": [
              "<table class=\"simpletable\">\n",
              "<caption>ARMA Model Results</caption>\n",
              "<tr>\n",
              "  <th>Dep. Variable:</th>         <td>y</td>        <th>  No. Observations:  </th>    <td>120</td>  \n",
              "</tr>\n",
              "<tr>\n",
              "  <th>Model:</th>            <td>ARMA(2, 2)</td>    <th>  Log Likelihood     </th> <td>-405.370</td>\n",
              "</tr>\n",
              "<tr>\n",
              "  <th>Method:</th>             <td>css-mle</td>     <th>  S.D. of innovations</th>   <td>6.991</td> \n",
              "</tr>\n",
              "<tr>\n",
              "  <th>Date:</th>          <td>Thu, 27 Jun 2019</td> <th>  AIC                </th>  <td>822.741</td>\n",
              "</tr>\n",
              "<tr>\n",
              "  <th>Time:</th>              <td>01:28:10</td>     <th>  BIC                </th>  <td>839.466</td>\n",
              "</tr>\n",
              "<tr>\n",
              "  <th>Sample:</th>                <td>0</td>        <th>  HQIC               </th>  <td>829.533</td>\n",
              "</tr>\n",
              "<tr>\n",
              "  <th></th>                       <td> </td>        <th>                     </th>     <td> </td>   \n",
              "</tr>\n",
              "</table>\n",
              "<table class=\"simpletable\">\n",
              "<tr>\n",
              "     <td></td>        <th>coef</th>     <th>std err</th>      <th>z</th>      <th>P>|z|</th>  <th>[0.025</th>    <th>0.975]</th>  \n",
              "</tr>\n",
              "<tr>\n",
              "  <th>const</th>   <td>   39.8163</td> <td>    0.108</td> <td>  368.848</td> <td> 0.000</td> <td>   39.605</td> <td>   40.028</td>\n",
              "</tr>\n",
              "<tr>\n",
              "  <th>ar.L1.y</th> <td>    1.8569</td> <td>    0.081</td> <td>   22.935</td> <td> 0.000</td> <td>    1.698</td> <td>    2.016</td>\n",
              "</tr>\n",
              "<tr>\n",
              "  <th>ar.L2.y</th> <td>   -0.8814</td> <td>    0.073</td> <td>  -12.032</td> <td> 0.000</td> <td>   -1.025</td> <td>   -0.738</td>\n",
              "</tr>\n",
              "<tr>\n",
              "  <th>ma.L1.y</th> <td>   -1.8634</td> <td>    0.109</td> <td>  -17.126</td> <td> 0.000</td> <td>   -2.077</td> <td>   -1.650</td>\n",
              "</tr>\n",
              "<tr>\n",
              "  <th>ma.L2.y</th> <td>    0.8634</td> <td>    0.108</td> <td>    8.020</td> <td> 0.000</td> <td>    0.652</td> <td>    1.074</td>\n",
              "</tr>\n",
              "</table>\n",
              "<table class=\"simpletable\">\n",
              "<caption>Roots</caption>\n",
              "<tr>\n",
              "    <td></td>   <th>            Real</th>  <th>         Imaginary</th> <th>         Modulus</th>  <th>        Frequency</th>\n",
              "</tr>\n",
              "<tr>\n",
              "  <th>AR.1</th> <td>           1.0533</td> <td>          -0.1582j</td> <td>           1.0651</td> <td>          -0.0237</td>\n",
              "</tr>\n",
              "<tr>\n",
              "  <th>AR.2</th> <td>           1.0533</td> <td>          +0.1582j</td> <td>           1.0651</td> <td>           0.0237</td>\n",
              "</tr>\n",
              "<tr>\n",
              "  <th>MA.1</th> <td>           1.0000</td> <td>          +0.0000j</td> <td>           1.0000</td> <td>           0.0000</td>\n",
              "</tr>\n",
              "<tr>\n",
              "  <th>MA.2</th> <td>           1.1582</td> <td>          +0.0000j</td> <td>           1.1582</td> <td>           0.0000</td>\n",
              "</tr>\n",
              "</table>"
            ],
            "text/plain": [
              "<class 'statsmodels.iolib.summary.Summary'>\n",
              "\"\"\"\n",
              "                              ARMA Model Results                              \n",
              "==============================================================================\n",
              "Dep. Variable:                      y   No. Observations:                  120\n",
              "Model:                     ARMA(2, 2)   Log Likelihood                -405.370\n",
              "Method:                       css-mle   S.D. of innovations              6.991\n",
              "Date:                Thu, 27 Jun 2019   AIC                            822.741\n",
              "Time:                        01:28:10   BIC                            839.466\n",
              "Sample:                             0   HQIC                           829.533\n",
              "                                                                              \n",
              "==============================================================================\n",
              "                 coef    std err          z      P>|z|      [0.025      0.975]\n",
              "------------------------------------------------------------------------------\n",
              "const         39.8163      0.108    368.848      0.000      39.605      40.028\n",
              "ar.L1.y        1.8569      0.081     22.935      0.000       1.698       2.016\n",
              "ar.L2.y       -0.8814      0.073    -12.032      0.000      -1.025      -0.738\n",
              "ma.L1.y       -1.8634      0.109    -17.126      0.000      -2.077      -1.650\n",
              "ma.L2.y        0.8634      0.108      8.020      0.000       0.652       1.074\n",
              "                                    Roots                                    \n",
              "=============================================================================\n",
              "                  Real          Imaginary           Modulus         Frequency\n",
              "-----------------------------------------------------------------------------\n",
              "AR.1            1.0533           -0.1582j            1.0651           -0.0237\n",
              "AR.2            1.0533           +0.1582j            1.0651            0.0237\n",
              "MA.1            1.0000           +0.0000j            1.0000            0.0000\n",
              "MA.2            1.1582           +0.0000j            1.1582            0.0000\n",
              "-----------------------------------------------------------------------------\n",
              "\"\"\""
            ]
          },
          "metadata": {
            "tags": []
          },
          "execution_count": 23
        }
      ]
    },
    {
      "cell_type": "markdown",
      "metadata": {
        "id": "14EdAW_OnvuB",
        "colab_type": "text"
      },
      "source": [
        "# ***1 Month Forecast** "
      ]
    },
    {
      "cell_type": "code",
      "metadata": {
        "id": "GkhkvVt7pbNG",
        "colab_type": "code",
        "colab": {}
      },
      "source": [
        "from statsmodels.tsa.arima_model import ARMA,ARIMA,ARMAResults,ARIMAResults\n",
        "from statsmodels.graphics.tsaplots import plot_acf,plot_pacf"
      ],
      "execution_count": 0,
      "outputs": []
    },
    {
      "cell_type": "code",
      "metadata": {
        "id": "ufhWEwSLoxhJ",
        "colab_type": "code",
        "outputId": "4e21b5fa-f458-48df-af58-4ab73a6342d5",
        "colab": {
          "base_uri": "https://localhost:8080/",
          "height": 35
        }
      },
      "source": [
        "len(df2)"
      ],
      "execution_count": 0,
      "outputs": [
        {
          "output_type": "execute_result",
          "data": {
            "text/plain": [
              "120"
            ]
          },
          "metadata": {
            "tags": []
          },
          "execution_count": 25
        }
      ]
    },
    {
      "cell_type": "code",
      "metadata": {
        "id": "J_PuDVVPnlLC",
        "colab_type": "code",
        "colab": {}
      },
      "source": [
        "train=df2.iloc[:90]\n",
        "test=df2.iloc[90:]"
      ],
      "execution_count": 0,
      "outputs": []
    },
    {
      "cell_type": "code",
      "metadata": {
        "id": "8Vq0dwX1oDF8",
        "colab_type": "code",
        "colab": {}
      },
      "source": [
        "model=ARMA(train['Births'],order=(2,2))\n",
        "result=model.fit()"
      ],
      "execution_count": 0,
      "outputs": []
    },
    {
      "cell_type": "code",
      "metadata": {
        "id": "qH6TT_oOoEGF",
        "colab_type": "code",
        "outputId": "bf7cceeb-3ec8-4dff-e24c-f2a2e2c920f7",
        "colab": {
          "base_uri": "https://localhost:8080/",
          "height": 442
        }
      },
      "source": [
        "result.summary()"
      ],
      "execution_count": 0,
      "outputs": [
        {
          "output_type": "execute_result",
          "data": {
            "text/html": [
              "<table class=\"simpletable\">\n",
              "<caption>ARMA Model Results</caption>\n",
              "<tr>\n",
              "  <th>Dep. Variable:</th>      <td>Births</td>      <th>  No. Observations:  </th>    <td>90</td>   \n",
              "</tr>\n",
              "<tr>\n",
              "  <th>Model:</th>            <td>ARMA(2, 2)</td>    <th>  Log Likelihood     </th> <td>-307.905</td>\n",
              "</tr>\n",
              "<tr>\n",
              "  <th>Method:</th>             <td>css-mle</td>     <th>  S.D. of innovations</th>   <td>7.405</td> \n",
              "</tr>\n",
              "<tr>\n",
              "  <th>Date:</th>          <td>Thu, 27 Jun 2019</td> <th>  AIC                </th>  <td>627.809</td>\n",
              "</tr>\n",
              "<tr>\n",
              "  <th>Time:</th>              <td>01:28:10</td>     <th>  BIC                </th>  <td>642.808</td>\n",
              "</tr>\n",
              "<tr>\n",
              "  <th>Sample:</th>           <td>01-01-1959</td>    <th>  HQIC               </th>  <td>633.858</td>\n",
              "</tr>\n",
              "<tr>\n",
              "  <th></th>                 <td>- 03-31-1959</td>   <th>                     </th>     <td> </td>   \n",
              "</tr>\n",
              "</table>\n",
              "<table class=\"simpletable\">\n",
              "<tr>\n",
              "        <td></td>          <th>coef</th>     <th>std err</th>      <th>z</th>      <th>P>|z|</th>  <th>[0.025</th>    <th>0.975]</th>  \n",
              "</tr>\n",
              "<tr>\n",
              "  <th>const</th>        <td>   39.7549</td> <td>    0.912</td> <td>   43.607</td> <td> 0.000</td> <td>   37.968</td> <td>   41.542</td>\n",
              "</tr>\n",
              "<tr>\n",
              "  <th>ar.L1.Births</th> <td>   -0.1850</td> <td>    1.087</td> <td>   -0.170</td> <td> 0.865</td> <td>   -2.315</td> <td>    1.945</td>\n",
              "</tr>\n",
              "<tr>\n",
              "  <th>ar.L2.Births</th> <td>    0.4352</td> <td>    0.644</td> <td>    0.675</td> <td> 0.501</td> <td>   -0.828</td> <td>    1.698</td>\n",
              "</tr>\n",
              "<tr>\n",
              "  <th>ma.L1.Births</th> <td>    0.2777</td> <td>    1.097</td> <td>    0.253</td> <td> 0.801</td> <td>   -1.872</td> <td>    2.427</td>\n",
              "</tr>\n",
              "<tr>\n",
              "  <th>ma.L2.Births</th> <td>   -0.3999</td> <td>    0.679</td> <td>   -0.589</td> <td> 0.557</td> <td>   -1.730</td> <td>    0.930</td>\n",
              "</tr>\n",
              "</table>\n",
              "<table class=\"simpletable\">\n",
              "<caption>Roots</caption>\n",
              "<tr>\n",
              "    <td></td>   <th>            Real</th>  <th>         Imaginary</th> <th>         Modulus</th>  <th>        Frequency</th>\n",
              "</tr>\n",
              "<tr>\n",
              "  <th>AR.1</th> <td>          -1.3181</td> <td>          +0.0000j</td> <td>           1.3181</td> <td>           0.5000</td>\n",
              "</tr>\n",
              "<tr>\n",
              "  <th>AR.2</th> <td>           1.7434</td> <td>          +0.0000j</td> <td>           1.7434</td> <td>           0.0000</td>\n",
              "</tr>\n",
              "<tr>\n",
              "  <th>MA.1</th> <td>          -1.2718</td> <td>          +0.0000j</td> <td>           1.2718</td> <td>           0.5000</td>\n",
              "</tr>\n",
              "<tr>\n",
              "  <th>MA.2</th> <td>           1.9662</td> <td>          +0.0000j</td> <td>           1.9662</td> <td>           0.0000</td>\n",
              "</tr>\n",
              "</table>"
            ],
            "text/plain": [
              "<class 'statsmodels.iolib.summary.Summary'>\n",
              "\"\"\"\n",
              "                              ARMA Model Results                              \n",
              "==============================================================================\n",
              "Dep. Variable:                 Births   No. Observations:                   90\n",
              "Model:                     ARMA(2, 2)   Log Likelihood                -307.905\n",
              "Method:                       css-mle   S.D. of innovations              7.405\n",
              "Date:                Thu, 27 Jun 2019   AIC                            627.809\n",
              "Time:                        01:28:10   BIC                            642.808\n",
              "Sample:                    01-01-1959   HQIC                           633.858\n",
              "                         - 03-31-1959                                         \n",
              "================================================================================\n",
              "                   coef    std err          z      P>|z|      [0.025      0.975]\n",
              "--------------------------------------------------------------------------------\n",
              "const           39.7549      0.912     43.607      0.000      37.968      41.542\n",
              "ar.L1.Births    -0.1850      1.087     -0.170      0.865      -2.315       1.945\n",
              "ar.L2.Births     0.4352      0.644      0.675      0.501      -0.828       1.698\n",
              "ma.L1.Births     0.2777      1.097      0.253      0.801      -1.872       2.427\n",
              "ma.L2.Births    -0.3999      0.679     -0.589      0.557      -1.730       0.930\n",
              "                                    Roots                                    \n",
              "=============================================================================\n",
              "                  Real          Imaginary           Modulus         Frequency\n",
              "-----------------------------------------------------------------------------\n",
              "AR.1           -1.3181           +0.0000j            1.3181            0.5000\n",
              "AR.2            1.7434           +0.0000j            1.7434            0.0000\n",
              "MA.1           -1.2718           +0.0000j            1.2718            0.5000\n",
              "MA.2            1.9662           +0.0000j            1.9662            0.0000\n",
              "-----------------------------------------------------------------------------\n",
              "\"\"\""
            ]
          },
          "metadata": {
            "tags": []
          },
          "execution_count": 28
        }
      ]
    },
    {
      "cell_type": "code",
      "metadata": {
        "id": "UReAqk_soG3y",
        "colab_type": "code",
        "colab": {}
      },
      "source": [
        "start=len(train)\n",
        "end=len(train)+len(test)-1\n",
        "predictions=result.predict(start,end).rename('ARMA (2,2) Predictions')\n"
      ],
      "execution_count": 0,
      "outputs": []
    },
    {
      "cell_type": "code",
      "metadata": {
        "id": "8B8nmRRorEr5",
        "colab_type": "code",
        "outputId": "e5f64b20-e984-4249-d30a-1f96acdc23b2",
        "colab": {
          "base_uri": "https://localhost:8080/",
          "height": 553
        }
      },
      "source": [
        "test['Births'].plot(figsize=(12,8),legend=True)\n",
        "predictions.plot(legend=True)"
      ],
      "execution_count": 0,
      "outputs": [
        {
          "output_type": "execute_result",
          "data": {
            "text/plain": [
              "<matplotlib.axes._subplots.AxesSubplot at 0x7f6f812585f8>"
            ]
          },
          "metadata": {
            "tags": []
          },
          "execution_count": 30
        },
        {
          "output_type": "display_data",
          "data": {
            "image/png": "[encoded data removed]",
            "text/plain": [
              "<Figure size 864x576 with 1 Axes>"
            ]
          },
          "metadata": {
            "tags": []
          }
        }
      ]
    },
    {
      "cell_type": "markdown",
      "metadata": {
        "id": "tzzifo8Xrk7F",
        "colab_type": "text"
      },
      "source": [
        "Since our starting dataset exhibhit no trend or seasonality that we conformed using ADF test, this prediction makes sense as it forecasted avg value. Our model wasnt able to predict the noise , but was able to predict the actual mean avg for the next month of data"
      ]
    },
    {
      "cell_type": "code",
      "metadata": {
        "id": "mfGr2NtcrQd_",
        "colab_type": "code",
        "outputId": "64cad07f-9d7a-4e53-e63e-63484f28b72a",
        "colab": {
          "base_uri": "https://localhost:8080/",
          "height": 54
        }
      },
      "source": [
        "test.mean(),predictions.mean()"
      ],
      "execution_count": 0,
      "outputs": [
        {
          "output_type": "execute_result",
          "data": {
            "text/plain": [
              "(Births    39.833333\n",
              " dtype: float64, 39.777434306528306)"
            ]
          },
          "metadata": {
            "tags": []
          },
          "execution_count": 31
        }
      ]
    },
    {
      "cell_type": "markdown",
      "metadata": {
        "id": "EOuodZHjtGmp",
        "colab_type": "text"
      },
      "source": [
        "# **ARIMA**"
      ]
    },
    {
      "cell_type": "code",
      "metadata": {
        "id": "72XZfbKTsq-1",
        "colab_type": "code",
        "outputId": "dd102244-dca0-49fb-fbc0-ad6cfbe1b557",
        "colab": {
          "base_uri": "https://localhost:8080/",
          "height": 72
        }
      },
      "source": [
        "!curl --header 'Host: fred.stlouisfed.org' --user-agent 'Mozilla/5.0 (Windows NT 6.3; Win64; x64; rv:67.0) Gecko/20100101 Firefox/67.0' --header 'Accept: text/html,application/xhtml+xml,application/xml;q=0.9,*/*;q=0.8' --header 'Accept-Language: en-US,en;q=0.5' --referer 'https://fred.stlouisfed.org/series/INVCMRMTSPL' --cookie '_ga=GA1.2.1721668011.1561568025; _gid=GA1.2.1087370694.1561568025; G_ENABLED_IDPS=google; _gid=GA1.3.1087370694.1561568025; _ga=GA1.3.1721668011.1561568025; _gat_UA-9926151-28=1' --header 'Upgrade-Insecure-Requests: 1' 'https://fred.stlouisfed.org/graph/fredgraph.csv?bgcolor=%23e1e9f0&chart_type=line&drp=0&fo=open%20sans&graph_bgcolor=%23ffffff&height=450&mode=fred&recession_bars=on&txtcolor=%23444444&ts=12&tts=12&width=1168&nt=0&thu=0&trc=0&show_legend=yes&show_axis_titles=yes&show_tooltip=yes&id=INVCMRMTSPL&scale=left&cosd=1967-01-01&coed=2019-03-01&line_color=%234572a7&link_values=false&line_style=solid&mark_type=none&mw=3&lw=2&ost=-99999&oet=99999&mma=0&fml=a&fq=Monthly&fam=avg&fgst=lin&fgsnd=2009-06-01&line_index=1&transformation=lin&vintage_date=2019-06-26&revision_date=2019-06-26&nd=1967-01-01' --output 'inventory.csv'"
      ],
      "execution_count": 0,
      "outputs": [
        {
          "output_type": "stream",
          "text": [
            "  % Total    % Received % Xferd  Average Speed   Time    Time     Time  Current\n",
            "                                 Dload  Upload   Total   Spent    Left  Speed\n",
            "\r  0     0    0     0    0     0      0      0 --:--:-- --:--:-- --:--:--     0\r100 14206  100 14206    0     0  23212      0 --:--:-- --:--:-- --:--:-- 23212\n"
          ],
          "name": "stdout"
        }
      ]
    },
    {
      "cell_type": "code",
      "metadata": {
        "id": "wJftEmDQuSoo",
        "colab_type": "code",
        "outputId": "f72884fa-ec66-4288-a82e-2b335c6beeab",
        "colab": {
          "base_uri": "https://localhost:8080/",
          "height": 35
        }
      },
      "source": [
        "pwd"
      ],
      "execution_count": 0,
      "outputs": [
        {
          "output_type": "execute_result",
          "data": {
            "text/plain": [
              "'/content/drive/My Drive/amex'"
            ]
          },
          "metadata": {
            "tags": []
          },
          "execution_count": 33
        }
      ]
    },
    {
      "cell_type": "code",
      "metadata": {
        "id": "rXfaLe4VuTPn",
        "colab_type": "code",
        "outputId": "1c8c11d9-9f21-4088-ab21-65ebdd584655",
        "colab": {
          "base_uri": "https://localhost:8080/",
          "height": 238
        }
      },
      "source": [
        "df1=pd.read_csv('inventory.csv',index_col='DATE',parse_dates=True)\n",
        "\n",
        "df1.index.freq='MS'\n",
        "df1.head()"
      ],
      "execution_count": 0,
      "outputs": [
        {
          "output_type": "execute_result",
          "data": {
            "text/html": [
              "<div>\n",
              "<style scoped>\n",
              "    .dataframe tbody tr th:only-of-type {\n",
              "        vertical-align: middle;\n",
              "    }\n",
              "\n",
              "    .dataframe tbody tr th {\n",
              "        vertical-align: top;\n",
              "    }\n",
              "\n",
              "    .dataframe thead th {\n",
              "        text-align: right;\n",
              "    }\n",
              "</style>\n",
              "<table border=\"1\" class=\"dataframe\">\n",
              "  <thead>\n",
              "    <tr style=\"text-align: right;\">\n",
              "      <th></th>\n",
              "      <th>INVCMRMTSPL</th>\n",
              "    </tr>\n",
              "    <tr>\n",
              "      <th>DATE</th>\n",
              "      <th></th>\n",
              "    </tr>\n",
              "  </thead>\n",
              "  <tbody>\n",
              "    <tr>\n",
              "      <th>1967-01-01</th>\n",
              "      <td>518404.351</td>\n",
              "    </tr>\n",
              "    <tr>\n",
              "      <th>1967-02-01</th>\n",
              "      <td>521161.233</td>\n",
              "    </tr>\n",
              "    <tr>\n",
              "      <th>1967-03-01</th>\n",
              "      <td>523994.722</td>\n",
              "    </tr>\n",
              "    <tr>\n",
              "      <th>1967-04-01</th>\n",
              "      <td>526049.534</td>\n",
              "    </tr>\n",
              "    <tr>\n",
              "      <th>1967-05-01</th>\n",
              "      <td>527402.278</td>\n",
              "    </tr>\n",
              "  </tbody>\n",
              "</table>\n",
              "</div>"
            ],
            "text/plain": [
              "            INVCMRMTSPL\n",
              "DATE                   \n",
              "1967-01-01   518404.351\n",
              "1967-02-01   521161.233\n",
              "1967-03-01   523994.722\n",
              "1967-04-01   526049.534\n",
              "1967-05-01   527402.278"
            ]
          },
          "metadata": {
            "tags": []
          },
          "execution_count": 34
        }
      ]
    },
    {
      "cell_type": "code",
      "metadata": {
        "id": "DnuB1kHeub91",
        "colab_type": "code",
        "outputId": "5fdd8c26-3389-41a0-efdc-cdacb7079116",
        "colab": {
          "base_uri": "https://localhost:8080/",
          "height": 518
        }
      },
      "source": [
        "df1.plot(figsize=(12,8))"
      ],
      "execution_count": 0,
      "outputs": [
        {
          "output_type": "execute_result",
          "data": {
            "text/plain": [
              "<matplotlib.axes._subplots.AxesSubplot at 0x7f6f813ec470>"
            ]
          },
          "metadata": {
            "tags": []
          },
          "execution_count": 35
        },
        {
          "output_type": "display_data",
          "data": {
            "image/png": "[encoded data removed]",
            "text/plain": [
              "<Figure size 864x576 with 1 Axes>"
            ]
          },
          "metadata": {
            "tags": []
          }
        }
      ]
    },
    {
      "cell_type": "code",
      "metadata": {
        "id": "ZWFIKcKIu19A",
        "colab_type": "code",
        "colab": {}
      },
      "source": [
        "df1=df1[df1.index>pd.to_datetime('1997-01-01')]\n",
        "df1=df1[df1.index<pd.to_datetime('2018-12-01')]"
      ],
      "execution_count": 0,
      "outputs": []
    },
    {
      "cell_type": "code",
      "metadata": {
        "id": "SI-dVoVnvMsj",
        "colab_type": "code",
        "colab": {}
      },
      "source": [
        "from statsmodels.tsa.seasonal import seasonal_decompose"
      ],
      "execution_count": 0,
      "outputs": []
    },
    {
      "cell_type": "code",
      "metadata": {
        "id": "m8LCG8fIv195",
        "colab_type": "code",
        "outputId": "1d7b12f3-c7c5-4798-b0f2-369eb3717684",
        "colab": {
          "base_uri": "https://localhost:8080/",
          "height": 35
        }
      },
      "source": [
        "df1.columns"
      ],
      "execution_count": 0,
      "outputs": [
        {
          "output_type": "execute_result",
          "data": {
            "text/plain": [
              "Index(['INVCMRMTSPL'], dtype='object')"
            ]
          },
          "metadata": {
            "tags": []
          },
          "execution_count": 38
        }
      ]
    },
    {
      "cell_type": "code",
      "metadata": {
        "id": "02FYtVIOvvOv",
        "colab_type": "code",
        "colab": {}
      },
      "source": [
        "df1.rename(columns={'INVCMRMTSPL':'Inventory'},inplace=True)"
      ],
      "execution_count": 0,
      "outputs": []
    },
    {
      "cell_type": "code",
      "metadata": {
        "id": "sbieI9i3wAUT",
        "colab_type": "code",
        "outputId": "a36c6eb5-68bb-4179-8622-ee0dc23c5712",
        "colab": {
          "base_uri": "https://localhost:8080/",
          "height": 297
        }
      },
      "source": [
        "result=seasonal_decompose(df1['Inventory'],model='add')\n",
        "result.plot();"
      ],
      "execution_count": 0,
      "outputs": [
        {
          "output_type": "display_data",
          "data": {
            "image/png": "[encoded data removed]",
            "text/plain": [
              "<Figure size 432x288 with 4 Axes>"
            ]
          },
          "metadata": {
            "tags": []
          }
        }
      ]
    },
    {
      "cell_type": "markdown",
      "metadata": {
        "id": "M_sBrG5kmRmn",
        "colab_type": "text"
      },
      "source": [
        "Since the seasonality doesnt have much variation , lets assume it wont have much effect"
      ]
    },
    {
      "cell_type": "code",
      "metadata": {
        "id": "JPcnYAUFwNGB",
        "colab_type": "code",
        "outputId": "192d6943-3427-4178-e25c-974b2a7f0aab",
        "colab": {
          "base_uri": "https://localhost:8080/",
          "height": 382
        }
      },
      "source": [
        "auto_arima(df1['Inventory'],seasonal=False).summary()"
      ],
      "execution_count": 0,
      "outputs": [
        {
          "output_type": "execute_result",
          "data": {
            "text/html": [
              "<table class=\"simpletable\">\n",
              "<caption>ARIMA Model Results</caption>\n",
              "<tr>\n",
              "  <th>Dep. Variable:</th>        <td>D.y</td>       <th>  No. Observations:  </th>    <td>261</td>   \n",
              "</tr>\n",
              "<tr>\n",
              "  <th>Model:</th>          <td>ARIMA(1, 1, 2)</td>  <th>  Log Likelihood     </th> <td>-2588.239</td>\n",
              "</tr>\n",
              "<tr>\n",
              "  <th>Method:</th>             <td>css-mle</td>     <th>  S.D. of innovations</th> <td>4897.606</td> \n",
              "</tr>\n",
              "<tr>\n",
              "  <th>Date:</th>          <td>Thu, 27 Jun 2019</td> <th>  AIC                </th> <td>5186.479</td> \n",
              "</tr>\n",
              "<tr>\n",
              "  <th>Time:</th>              <td>01:44:28</td>     <th>  BIC                </th> <td>5204.301</td> \n",
              "</tr>\n",
              "<tr>\n",
              "  <th>Sample:</th>                <td>1</td>        <th>  HQIC               </th> <td>5193.643</td> \n",
              "</tr>\n",
              "<tr>\n",
              "  <th></th>                       <td> </td>        <th>                     </th>     <td> </td>    \n",
              "</tr>\n",
              "</table>\n",
              "<table class=\"simpletable\">\n",
              "<tr>\n",
              "      <td></td>         <th>coef</th>     <th>std err</th>      <th>z</th>      <th>P>|z|</th>  <th>[0.025</th>    <th>0.975]</th>  \n",
              "</tr>\n",
              "<tr>\n",
              "  <th>const</th>     <td> 3201.3104</td> <td> 1343.420</td> <td>    2.383</td> <td> 0.018</td> <td>  568.255</td> <td> 5834.366</td>\n",
              "</tr>\n",
              "<tr>\n",
              "  <th>ar.L1.D.y</th> <td>    0.9169</td> <td>    0.036</td> <td>   25.587</td> <td> 0.000</td> <td>    0.847</td> <td>    0.987</td>\n",
              "</tr>\n",
              "<tr>\n",
              "  <th>ma.L1.D.y</th> <td>   -0.5145</td> <td>    0.076</td> <td>   -6.790</td> <td> 0.000</td> <td>   -0.663</td> <td>   -0.366</td>\n",
              "</tr>\n",
              "<tr>\n",
              "  <th>ma.L2.D.y</th> <td>   -0.1046</td> <td>    0.071</td> <td>   -1.479</td> <td> 0.140</td> <td>   -0.243</td> <td>    0.034</td>\n",
              "</tr>\n",
              "</table>\n",
              "<table class=\"simpletable\">\n",
              "<caption>Roots</caption>\n",
              "<tr>\n",
              "    <td></td>   <th>            Real</th>  <th>         Imaginary</th> <th>         Modulus</th>  <th>        Frequency</th>\n",
              "</tr>\n",
              "<tr>\n",
              "  <th>AR.1</th> <td>           1.0907</td> <td>          +0.0000j</td> <td>           1.0907</td> <td>           0.0000</td>\n",
              "</tr>\n",
              "<tr>\n",
              "  <th>MA.1</th> <td>           1.4914</td> <td>          +0.0000j</td> <td>           1.4914</td> <td>           0.0000</td>\n",
              "</tr>\n",
              "<tr>\n",
              "  <th>MA.2</th> <td>          -6.4109</td> <td>          +0.0000j</td> <td>           6.4109</td> <td>           0.5000</td>\n",
              "</tr>\n",
              "</table>"
            ],
            "text/plain": [
              "<class 'statsmodels.iolib.summary.Summary'>\n",
              "\"\"\"\n",
              "                             ARIMA Model Results                              \n",
              "==============================================================================\n",
              "Dep. Variable:                    D.y   No. Observations:                  261\n",
              "Model:                 ARIMA(1, 1, 2)   Log Likelihood               -2588.239\n",
              "Method:                       css-mle   S.D. of innovations           4897.606\n",
              "Date:                Thu, 27 Jun 2019   AIC                           5186.479\n",
              "Time:                        01:44:28   BIC                           5204.301\n",
              "Sample:                             1   HQIC                          5193.643\n",
              "                                                                              \n",
              "==============================================================================\n",
              "                 coef    std err          z      P>|z|      [0.025      0.975]\n",
              "------------------------------------------------------------------------------\n",
              "const       3201.3104   1343.420      2.383      0.018     568.255    5834.366\n",
              "ar.L1.D.y      0.9169      0.036     25.587      0.000       0.847       0.987\n",
              "ma.L1.D.y     -0.5145      0.076     -6.790      0.000      -0.663      -0.366\n",
              "ma.L2.D.y     -0.1046      0.071     -1.479      0.140      -0.243       0.034\n",
              "                                    Roots                                    \n",
              "=============================================================================\n",
              "                  Real          Imaginary           Modulus         Frequency\n",
              "-----------------------------------------------------------------------------\n",
              "AR.1            1.0907           +0.0000j            1.0907            0.0000\n",
              "MA.1            1.4914           +0.0000j            1.4914            0.0000\n",
              "MA.2           -6.4109           +0.0000j            6.4109            0.5000\n",
              "-----------------------------------------------------------------------------\n",
              "\"\"\""
            ]
          },
          "metadata": {
            "tags": []
          },
          "execution_count": 43
        }
      ]
    },
    {
      "cell_type": "markdown",
      "metadata": {
        "id": "vPMoT5sHm8XF",
        "colab_type": "text"
      },
      "source": [
        "### ACF and PACF plots"
      ]
    },
    {
      "cell_type": "code",
      "metadata": {
        "id": "ER62beUymn0U",
        "colab_type": "code",
        "colab": {}
      },
      "source": [
        "from statsmodels.tsa.statespace.tools import diff"
      ],
      "execution_count": 0,
      "outputs": []
    },
    {
      "cell_type": "code",
      "metadata": {
        "id": "LlA0FUFqnMwQ",
        "colab_type": "code",
        "outputId": "80ae09ff-0ab8-458b-e9ba-d6368f4cf768",
        "colab": {
          "base_uri": "https://localhost:8080/",
          "height": 220
        }
      },
      "source": [
        "df1['Diff_1']=diff(df1['Inventory'],k_diff=1)\n",
        "adf_test(df1['Diff_1'])"
      ],
      "execution_count": 0,
      "outputs": [
        {
          "output_type": "stream",
          "text": [
            "Augmented Dickey Fuller Test:\n",
            "ADF Test Statistics      -3.527510\n",
            "p-value                   0.007308\n",
            "# Lags used               4.000000\n",
            "# Observations          256.000000\n",
            "critical value (1%)      -3.456155\n",
            "critical value (5%)      -2.872897\n",
            "critical value (10%)     -2.572822\n",
            "Strong evidence against the null hypothesis\n",
            "Reject the null hypothesis\n",
            "Data has no unit root and is stationary\n"
          ],
          "name": "stdout"
        }
      ]
    },
    {
      "cell_type": "code",
      "metadata": {
        "id": "kprfYIJtnd7Q",
        "colab_type": "code",
        "colab": {}
      },
      "source": [
        "# Dickey fuller test is agreeing what auto_arima suggested that in order to use AR and ma component we have to make sure the data is stationary and to make data stationary \n",
        "# In order to make data stationary , we should use a diff test of 1 .Data has no unit root and is stationary from the p-value."
      ],
      "execution_count": 0,
      "outputs": []
    },
    {
      "cell_type": "markdown",
      "metadata": {
        "id": "aCYhUSPAoNPq",
        "colab_type": "text"
      },
      "source": [
        "### PACF and ACF plots . p for AR component and q for MA component."
      ]
    },
    {
      "cell_type": "code",
      "metadata": {
        "id": "ifoDjOr8oBFK",
        "colab_type": "code",
        "outputId": "1e5808ab-6472-474e-fc3f-7cf090bbf7a6",
        "colab": {
          "base_uri": "https://localhost:8080/",
          "height": 281
        }
      },
      "source": [
        "plot_acf(df1['Inventory'], lags=40);"
      ],
      "execution_count": 0,
      "outputs": [
        {
          "output_type": "display_data",
          "data": {
            "image/png": "[encoded data removed]",
            "text/plain": [
              "<Figure size 432x288 with 1 Axes>"
            ]
          },
          "metadata": {
            "tags": []
          }
        }
      ]
    },
    {
      "cell_type": "code",
      "metadata": {
        "id": "CdaBk9oOoaZq",
        "colab_type": "code",
        "outputId": "d9d7af65-5ee0-4696-bffe-17d47717e9e6",
        "colab": {
          "base_uri": "https://localhost:8080/",
          "height": 281
        }
      },
      "source": [
        "plot_pacf(df1['Inventory'],lags=40);"
      ],
      "execution_count": 0,
      "outputs": [
        {
          "output_type": "display_data",
          "data": {
            "image/png": "[encoded data removed]",
            "text/plain": [
              "<Figure size 432x288 with 1 Axes>"
            ]
          },
          "metadata": {
            "tags": []
          }
        }
      ]
    },
    {
      "cell_type": "code",
      "metadata": {
        "id": "xj5y0Rduoi8C",
        "colab_type": "code",
        "colab": {}
      },
      "source": [
        "# how to choose p, d , q the classical way?"
      ],
      "execution_count": 0,
      "outputs": []
    },
    {
      "cell_type": "code",
      "metadata": {
        "id": "z0_GeXZuosS4",
        "colab_type": "code",
        "colab": {}
      },
      "source": [
        "# d is easiest to found .Its basically keep differencing untill the data is stationary. Depending on adf test after 1 differencing we see Data has no unit root and is stationary\n",
        "# Try diff values of k_diff(differencing) and after few values of differencing , we will pass adf test. Or plot diff p-values using different k_diff values.The classical \n",
        "# approach will focus on either AR or MA component."
      ],
      "execution_count": 0,
      "outputs": []
    },
    {
      "cell_type": "code",
      "metadata": {
        "id": "WYmmQxL6p9-T",
        "colab_type": "code",
        "colab": {}
      },
      "source": [
        "# https://people.duke.edu/~rnau/411arim3.htm :- Rule 6: If the PACF of the differenced series displays a sharp cutoff and/or the lag-1 autocorrelation is positive--i.e.,\n",
        "# if the series appears slightly \"underdifferenced\"--then consider adding an AR term to the model. The lag at which the PACF cuts off is the indicated number of AR terms.\n",
        "# From pacf plot we get p component or AR component.\n",
        "# If the PACF displays a sharp cutoff while the ACF decays more slowly (i.e., has significant spikes at higher lags), we say that the stationarized series displays\n",
        "# an \"AR signature,\" meaning that the autocorrelation pattern can be explained more easily by adding AR terms than by adding MA terms. \n",
        "# We can go with MA=1 , just to have MA component\n",
        "\n",
        "# AR=1\n",
        "# I=1\n",
        "# MA=1,0\n",
        "# Check out which one has less error\n",
        "\n",
        "# https://otexts.com/fpp2/arima-r.html"
      ],
      "execution_count": 0,
      "outputs": []
    },
    {
      "cell_type": "code",
      "metadata": {
        "id": "kqGk0MjNq06u",
        "colab_type": "code",
        "outputId": "c410d18a-9e54-4934-8497-590250d6bc64",
        "colab": {
          "base_uri": "https://localhost:8080/",
          "height": 567
        }
      },
      "source": [
        "stepwise_fit=auto_arima(df1['Inventory'],start_p=0,start_q=0,max_p=2,max_q=2,seasonal=False,trace=True)\n",
        "stepwise_fit.summary()"
      ],
      "execution_count": 0,
      "outputs": [
        {
          "output_type": "stream",
          "text": [
            "Fit ARIMA: order=(0, 1, 0); AIC=5306.174, BIC=5313.303, Fit time=0.005 seconds\n",
            "Fit ARIMA: order=(1, 1, 0); AIC=5204.813, BIC=5215.507, Fit time=0.063 seconds\n",
            "Fit ARIMA: order=(0, 1, 1); AIC=5236.027, BIC=5246.721, Fit time=0.049 seconds\n",
            "Fit ARIMA: order=(2, 1, 0); AIC=5197.547, BIC=5211.805, Fit time=0.097 seconds\n",
            "Fit ARIMA: order=(2, 1, 1); AIC=5186.975, BIC=5204.798, Fit time=0.188 seconds\n",
            "Fit ARIMA: order=(1, 1, 1); AIC=5186.719, BIC=5200.977, Fit time=0.115 seconds\n",
            "Fit ARIMA: order=(1, 1, 2); AIC=5186.479, BIC=5204.301, Fit time=0.089 seconds\n",
            "Fit ARIMA: order=(0, 1, 2); AIC=5227.100, BIC=5241.358, Fit time=0.058 seconds\n",
            "Fit ARIMA: order=(2, 1, 2); AIC=nan, BIC=nan, Fit time=nan seconds\n",
            "Total fit time: 0.697 seconds\n"
          ],
          "name": "stdout"
        },
        {
          "output_type": "execute_result",
          "data": {
            "text/html": [
              "<table class=\"simpletable\">\n",
              "<caption>ARIMA Model Results</caption>\n",
              "<tr>\n",
              "  <th>Dep. Variable:</th>        <td>D.y</td>       <th>  No. Observations:  </th>    <td>261</td>   \n",
              "</tr>\n",
              "<tr>\n",
              "  <th>Model:</th>          <td>ARIMA(1, 1, 2)</td>  <th>  Log Likelihood     </th> <td>-2588.239</td>\n",
              "</tr>\n",
              "<tr>\n",
              "  <th>Method:</th>             <td>css-mle</td>     <th>  S.D. of innovations</th> <td>4897.606</td> \n",
              "</tr>\n",
              "<tr>\n",
              "  <th>Date:</th>          <td>Thu, 27 Jun 2019</td> <th>  AIC                </th> <td>5186.479</td> \n",
              "</tr>\n",
              "<tr>\n",
              "  <th>Time:</th>              <td>02:08:06</td>     <th>  BIC                </th> <td>5204.301</td> \n",
              "</tr>\n",
              "<tr>\n",
              "  <th>Sample:</th>                <td>1</td>        <th>  HQIC               </th> <td>5193.643</td> \n",
              "</tr>\n",
              "<tr>\n",
              "  <th></th>                       <td> </td>        <th>                     </th>     <td> </td>    \n",
              "</tr>\n",
              "</table>\n",
              "<table class=\"simpletable\">\n",
              "<tr>\n",
              "      <td></td>         <th>coef</th>     <th>std err</th>      <th>z</th>      <th>P>|z|</th>  <th>[0.025</th>    <th>0.975]</th>  \n",
              "</tr>\n",
              "<tr>\n",
              "  <th>const</th>     <td> 3201.3104</td> <td> 1343.420</td> <td>    2.383</td> <td> 0.018</td> <td>  568.255</td> <td> 5834.366</td>\n",
              "</tr>\n",
              "<tr>\n",
              "  <th>ar.L1.D.y</th> <td>    0.9169</td> <td>    0.036</td> <td>   25.587</td> <td> 0.000</td> <td>    0.847</td> <td>    0.987</td>\n",
              "</tr>\n",
              "<tr>\n",
              "  <th>ma.L1.D.y</th> <td>   -0.5145</td> <td>    0.076</td> <td>   -6.790</td> <td> 0.000</td> <td>   -0.663</td> <td>   -0.366</td>\n",
              "</tr>\n",
              "<tr>\n",
              "  <th>ma.L2.D.y</th> <td>   -0.1046</td> <td>    0.071</td> <td>   -1.479</td> <td> 0.140</td> <td>   -0.243</td> <td>    0.034</td>\n",
              "</tr>\n",
              "</table>\n",
              "<table class=\"simpletable\">\n",
              "<caption>Roots</caption>\n",
              "<tr>\n",
              "    <td></td>   <th>            Real</th>  <th>         Imaginary</th> <th>         Modulus</th>  <th>        Frequency</th>\n",
              "</tr>\n",
              "<tr>\n",
              "  <th>AR.1</th> <td>           1.0907</td> <td>          +0.0000j</td> <td>           1.0907</td> <td>           0.0000</td>\n",
              "</tr>\n",
              "<tr>\n",
              "  <th>MA.1</th> <td>           1.4914</td> <td>          +0.0000j</td> <td>           1.4914</td> <td>           0.0000</td>\n",
              "</tr>\n",
              "<tr>\n",
              "  <th>MA.2</th> <td>          -6.4109</td> <td>          +0.0000j</td> <td>           6.4109</td> <td>           0.5000</td>\n",
              "</tr>\n",
              "</table>"
            ],
            "text/plain": [
              "<class 'statsmodels.iolib.summary.Summary'>\n",
              "\"\"\"\n",
              "                             ARIMA Model Results                              \n",
              "==============================================================================\n",
              "Dep. Variable:                    D.y   No. Observations:                  261\n",
              "Model:                 ARIMA(1, 1, 2)   Log Likelihood               -2588.239\n",
              "Method:                       css-mle   S.D. of innovations           4897.606\n",
              "Date:                Thu, 27 Jun 2019   AIC                           5186.479\n",
              "Time:                        02:08:06   BIC                           5204.301\n",
              "Sample:                             1   HQIC                          5193.643\n",
              "                                                                              \n",
              "==============================================================================\n",
              "                 coef    std err          z      P>|z|      [0.025      0.975]\n",
              "------------------------------------------------------------------------------\n",
              "const       3201.3104   1343.420      2.383      0.018     568.255    5834.366\n",
              "ar.L1.D.y      0.9169      0.036     25.587      0.000       0.847       0.987\n",
              "ma.L1.D.y     -0.5145      0.076     -6.790      0.000      -0.663      -0.366\n",
              "ma.L2.D.y     -0.1046      0.071     -1.479      0.140      -0.243       0.034\n",
              "                                    Roots                                    \n",
              "=============================================================================\n",
              "                  Real          Imaginary           Modulus         Frequency\n",
              "-----------------------------------------------------------------------------\n",
              "AR.1            1.0907           +0.0000j            1.0907            0.0000\n",
              "MA.1            1.4914           +0.0000j            1.4914            0.0000\n",
              "MA.2           -6.4109           +0.0000j            6.4109            0.5000\n",
              "-----------------------------------------------------------------------------\n",
              "\"\"\""
            ]
          },
          "metadata": {
            "tags": []
          },
          "execution_count": 57
        }
      ]
    },
    {
      "cell_type": "code",
      "metadata": {
        "id": "pNy_5lfwsJb7",
        "colab_type": "code",
        "outputId": "00ba40a9-35fc-44e5-c88c-dcb0a976fafd",
        "colab": {
          "base_uri": "https://localhost:8080/",
          "height": 35
        }
      },
      "source": [
        "len(df1),len(df1)-12"
      ],
      "execution_count": 0,
      "outputs": [
        {
          "output_type": "execute_result",
          "data": {
            "text/plain": [
              "(262, 250)"
            ]
          },
          "metadata": {
            "tags": []
          },
          "execution_count": 60
        }
      ]
    },
    {
      "cell_type": "code",
      "metadata": {
        "id": "JNP_nrm6spyf",
        "colab_type": "code",
        "colab": {}
      },
      "source": [
        "train=df1.iloc[:250]\n",
        "test=df1.iloc[250:]"
      ],
      "execution_count": 0,
      "outputs": []
    },
    {
      "cell_type": "markdown",
      "metadata": {
        "id": "Cauel-_XtTnZ",
        "colab_type": "text"
      },
      "source": [
        "### Model fitting"
      ]
    },
    {
      "cell_type": "code",
      "metadata": {
        "id": "KaPU-zFzs-7K",
        "colab_type": "code",
        "outputId": "d537f50a-1af8-4139-c66c-5087983ff316",
        "colab": {
          "base_uri": "https://localhost:8080/",
          "height": 357
        }
      },
      "source": [
        "# order=(1,1,1) returned by auto_arima()\n",
        "model=ARIMA(train['Inventory'],order=(1,1,1))\n",
        "results=model.fit()\n",
        "results.summary()"
      ],
      "execution_count": 0,
      "outputs": [
        {
          "output_type": "execute_result",
          "data": {
            "text/html": [
              "<table class=\"simpletable\">\n",
              "<caption>ARIMA Model Results</caption>\n",
              "<tr>\n",
              "  <th>Dep. Variable:</th>    <td>D.Inventory</td>   <th>  No. Observations:  </th>    <td>249</td>   \n",
              "</tr>\n",
              "<tr>\n",
              "  <th>Model:</th>          <td>ARIMA(1, 1, 1)</td>  <th>  Log Likelihood     </th> <td>-2467.457</td>\n",
              "</tr>\n",
              "<tr>\n",
              "  <th>Method:</th>             <td>css-mle</td>     <th>  S.D. of innovations</th> <td>4862.051</td> \n",
              "</tr>\n",
              "<tr>\n",
              "  <th>Date:</th>          <td>Thu, 27 Jun 2019</td> <th>  AIC                </th> <td>4942.915</td> \n",
              "</tr>\n",
              "<tr>\n",
              "  <th>Time:</th>              <td>02:12:31</td>     <th>  BIC                </th> <td>4956.984</td> \n",
              "</tr>\n",
              "<tr>\n",
              "  <th>Sample:</th>           <td>03-01-1997</td>    <th>  HQIC               </th> <td>4948.578</td> \n",
              "</tr>\n",
              "<tr>\n",
              "  <th></th>                 <td>- 11-01-2017</td>   <th>                     </th>     <td> </td>    \n",
              "</tr>\n",
              "</table>\n",
              "<table class=\"simpletable\">\n",
              "<tr>\n",
              "          <td></td>             <th>coef</th>     <th>std err</th>      <th>z</th>      <th>P>|z|</th>  <th>[0.025</th>    <th>0.975]</th>  \n",
              "</tr>\n",
              "<tr>\n",
              "  <th>const</th>             <td> 3180.9519</td> <td> 1346.475</td> <td>    2.362</td> <td> 0.019</td> <td>  541.909</td> <td> 5819.995</td>\n",
              "</tr>\n",
              "<tr>\n",
              "  <th>ar.L1.D.Inventory</th> <td>    0.9010</td> <td>    0.040</td> <td>   22.457</td> <td> 0.000</td> <td>    0.822</td> <td>    0.980</td>\n",
              "</tr>\n",
              "<tr>\n",
              "  <th>ma.L1.D.Inventory</th> <td>   -0.5542</td> <td>    0.081</td> <td>   -6.824</td> <td> 0.000</td> <td>   -0.713</td> <td>   -0.395</td>\n",
              "</tr>\n",
              "</table>\n",
              "<table class=\"simpletable\">\n",
              "<caption>Roots</caption>\n",
              "<tr>\n",
              "    <td></td>   <th>            Real</th>  <th>         Imaginary</th> <th>         Modulus</th>  <th>        Frequency</th>\n",
              "</tr>\n",
              "<tr>\n",
              "  <th>AR.1</th> <td>           1.1098</td> <td>          +0.0000j</td> <td>           1.1098</td> <td>           0.0000</td>\n",
              "</tr>\n",
              "<tr>\n",
              "  <th>MA.1</th> <td>           1.8045</td> <td>          +0.0000j</td> <td>           1.8045</td> <td>           0.0000</td>\n",
              "</tr>\n",
              "</table>"
            ],
            "text/plain": [
              "<class 'statsmodels.iolib.summary.Summary'>\n",
              "\"\"\"\n",
              "                             ARIMA Model Results                              \n",
              "==============================================================================\n",
              "Dep. Variable:            D.Inventory   No. Observations:                  249\n",
              "Model:                 ARIMA(1, 1, 1)   Log Likelihood               -2467.457\n",
              "Method:                       css-mle   S.D. of innovations           4862.051\n",
              "Date:                Thu, 27 Jun 2019   AIC                           4942.915\n",
              "Time:                        02:12:31   BIC                           4956.984\n",
              "Sample:                    03-01-1997   HQIC                          4948.578\n",
              "                         - 11-01-2017                                         \n",
              "=====================================================================================\n",
              "                        coef    std err          z      P>|z|      [0.025      0.975]\n",
              "-------------------------------------------------------------------------------------\n",
              "const              3180.9519   1346.475      2.362      0.019     541.909    5819.995\n",
              "ar.L1.D.Inventory     0.9010      0.040     22.457      0.000       0.822       0.980\n",
              "ma.L1.D.Inventory    -0.5542      0.081     -6.824      0.000      -0.713      -0.395\n",
              "                                    Roots                                    \n",
              "=============================================================================\n",
              "                  Real          Imaginary           Modulus         Frequency\n",
              "-----------------------------------------------------------------------------\n",
              "AR.1            1.1098           +0.0000j            1.1098            0.0000\n",
              "MA.1            1.8045           +0.0000j            1.8045            0.0000\n",
              "-----------------------------------------------------------------------------\n",
              "\"\"\""
            ]
          },
          "metadata": {
            "tags": []
          },
          "execution_count": 63
        }
      ]
    },
    {
      "cell_type": "markdown",
      "metadata": {
        "id": "7ZoAzde4tWJQ",
        "colab_type": "text"
      },
      "source": [
        "### Model predictions"
      ]
    },
    {
      "cell_type": "code",
      "metadata": {
        "id": "uI1YWXIBtFv6",
        "colab_type": "code",
        "colab": {}
      },
      "source": [
        "start=len(train)\n",
        "end=len(train)+len(test)-1\n",
        "predictions=results.predict(start=start,end=end,typ='levels').rename('ARIMA (1,1,1) Predictions')\n",
        "# typ='linear' means  it will return the predictions differenced by 1. This will come into scene when we use d parameter >=1."
      ],
      "execution_count": 0,
      "outputs": []
    },
    {
      "cell_type": "code",
      "metadata": {
        "id": "CNR1htmquhfh",
        "colab_type": "code",
        "outputId": "7c0f16d0-59a7-4466-e814-0581222bfd3b",
        "colab": {
          "base_uri": "https://localhost:8080/",
          "height": 457
        }
      },
      "source": [
        "test"
      ],
      "execution_count": 0,
      "outputs": [
        {
          "output_type": "execute_result",
          "data": {
            "text/html": [
              "<div>\n",
              "<style scoped>\n",
              "    .dataframe tbody tr th:only-of-type {\n",
              "        vertical-align: middle;\n",
              "    }\n",
              "\n",
              "    .dataframe tbody tr th {\n",
              "        vertical-align: top;\n",
              "    }\n",
              "\n",
              "    .dataframe thead th {\n",
              "        text-align: right;\n",
              "    }\n",
              "</style>\n",
              "<table border=\"1\" class=\"dataframe\">\n",
              "  <thead>\n",
              "    <tr style=\"text-align: right;\">\n",
              "      <th></th>\n",
              "      <th>Inventory</th>\n",
              "      <th>Diff_1</th>\n",
              "    </tr>\n",
              "    <tr>\n",
              "      <th>DATE</th>\n",
              "      <th></th>\n",
              "      <th></th>\n",
              "    </tr>\n",
              "  </thead>\n",
              "  <tbody>\n",
              "    <tr>\n",
              "      <th>2017-12-01</th>\n",
              "      <td>2103751.0</td>\n",
              "      <td>4614.0</td>\n",
              "    </tr>\n",
              "    <tr>\n",
              "      <th>2018-01-01</th>\n",
              "      <td>2110158.0</td>\n",
              "      <td>6407.0</td>\n",
              "    </tr>\n",
              "    <tr>\n",
              "      <th>2018-02-01</th>\n",
              "      <td>2118199.0</td>\n",
              "      <td>8041.0</td>\n",
              "    </tr>\n",
              "    <tr>\n",
              "      <th>2018-03-01</th>\n",
              "      <td>2112427.0</td>\n",
              "      <td>-5772.0</td>\n",
              "    </tr>\n",
              "    <tr>\n",
              "      <th>2018-04-01</th>\n",
              "      <td>2112276.0</td>\n",
              "      <td>-151.0</td>\n",
              "    </tr>\n",
              "    <tr>\n",
              "      <th>2018-05-01</th>\n",
              "      <td>2111835.0</td>\n",
              "      <td>-441.0</td>\n",
              "    </tr>\n",
              "    <tr>\n",
              "      <th>2018-06-01</th>\n",
              "      <td>2109298.0</td>\n",
              "      <td>-2537.0</td>\n",
              "    </tr>\n",
              "    <tr>\n",
              "      <th>2018-07-01</th>\n",
              "      <td>2119618.0</td>\n",
              "      <td>10320.0</td>\n",
              "    </tr>\n",
              "    <tr>\n",
              "      <th>2018-08-01</th>\n",
              "      <td>2127170.0</td>\n",
              "      <td>7552.0</td>\n",
              "    </tr>\n",
              "    <tr>\n",
              "      <th>2018-09-01</th>\n",
              "      <td>2134172.0</td>\n",
              "      <td>7002.0</td>\n",
              "    </tr>\n",
              "    <tr>\n",
              "      <th>2018-10-01</th>\n",
              "      <td>2145347.0</td>\n",
              "      <td>11175.0</td>\n",
              "    </tr>\n",
              "    <tr>\n",
              "      <th>2018-11-01</th>\n",
              "      <td>2142622.0</td>\n",
              "      <td>-2725.0</td>\n",
              "    </tr>\n",
              "  </tbody>\n",
              "</table>\n",
              "</div>"
            ],
            "text/plain": [
              "            Inventory   Diff_1\n",
              "DATE                          \n",
              "2017-12-01  2103751.0   4614.0\n",
              "2018-01-01  2110158.0   6407.0\n",
              "2018-02-01  2118199.0   8041.0\n",
              "2018-03-01  2112427.0  -5772.0\n",
              "2018-04-01  2112276.0   -151.0\n",
              "2018-05-01  2111835.0   -441.0\n",
              "2018-06-01  2109298.0  -2537.0\n",
              "2018-07-01  2119618.0  10320.0\n",
              "2018-08-01  2127170.0   7552.0\n",
              "2018-09-01  2134172.0   7002.0\n",
              "2018-10-01  2145347.0  11175.0\n",
              "2018-11-01  2142622.0  -2725.0"
            ]
          },
          "metadata": {
            "tags": []
          },
          "execution_count": 65
        }
      ]
    },
    {
      "cell_type": "code",
      "metadata": {
        "id": "8E4YrOtgujZp",
        "colab_type": "code",
        "outputId": "d517875d-a58b-4da4-c837-9ec38d365a1f",
        "colab": {
          "base_uri": "https://localhost:8080/",
          "height": 530
        }
      },
      "source": [
        "test['Inventory'].plot(figsize=(12,8),legend=True)\n",
        "predictions.plot(legend=True)"
      ],
      "execution_count": 0,
      "outputs": [
        {
          "output_type": "execute_result",
          "data": {
            "text/plain": [
              "<matplotlib.axes._subplots.AxesSubplot at 0x7f6f80e99160>"
            ]
          },
          "metadata": {
            "tags": []
          },
          "execution_count": 66
        },
        {
          "output_type": "display_data",
          "data": {
            "image/png": "[encoded data removed]",
            "text/plain": [
              "<Figure size 864x576 with 1 Axes>"
            ]
          },
          "metadata": {
            "tags": []
          }
        }
      ]
    },
    {
      "cell_type": "code",
      "metadata": {
        "id": "cAIz9NWuu7aU",
        "colab_type": "code",
        "colab": {}
      },
      "source": [
        "# In the beginning we had minor seasonal component, and we ignored it due to its scale and our problem statement. So our predictions is showing us the trend and it may or may not\n",
        "# capture the seasonality values. Trend is good , Lets evaluate the model.\n"
      ],
      "execution_count": 0,
      "outputs": []
    },
    {
      "cell_type": "code",
      "metadata": {
        "id": "qUlfVg8gvbVX",
        "colab_type": "code",
        "outputId": "fbad5698-7598-4270-ba32-fae0046d0127",
        "colab": {
          "base_uri": "https://localhost:8080/",
          "height": 35
        }
      },
      "source": [
        "from statsmodels.tools.eval_measures import rmse\n",
        "error=rmse(test['Inventory'],predictions)\n",
        "error"
      ],
      "execution_count": 0,
      "outputs": [
        {
          "output_type": "execute_result",
          "data": {
            "text/plain": [
              "7165.870973258091"
            ]
          },
          "metadata": {
            "tags": []
          },
          "execution_count": 68
        }
      ]
    },
    {
      "cell_type": "code",
      "metadata": {
        "id": "AJmmfBZcvn_d",
        "colab_type": "code",
        "outputId": "6801025d-9218-4b1f-cb6c-a1408b0db84b",
        "colab": {
          "base_uri": "https://localhost:8080/",
          "height": 35
        }
      },
      "source": [
        "test['Inventory'].mean()"
      ],
      "execution_count": 0,
      "outputs": [
        {
          "output_type": "execute_result",
          "data": {
            "text/plain": [
              "2120572.75"
            ]
          },
          "metadata": {
            "tags": []
          },
          "execution_count": 69
        }
      ]
    },
    {
      "cell_type": "code",
      "metadata": {
        "id": "ywsgDkQQvwCI",
        "colab_type": "code",
        "colab": {}
      },
      "source": [
        "# We are pretty close during April 2018 and Aug 2018.We overestimate and underestimate sometimes but general trend line is pretty good."
      ],
      "execution_count": 0,
      "outputs": []
    },
    {
      "cell_type": "code",
      "metadata": {
        "id": "W8YcXcmdwJvc",
        "colab_type": "code",
        "outputId": "c53e7ee3-0706-4417-a244-2d0354278c58",
        "colab": {
          "base_uri": "https://localhost:8080/",
          "height": 35
        }
      },
      "source": [
        "\n",
        "predictions.mean() # is pretty close to test['Inventory'].mean()"
      ],
      "execution_count": 0,
      "outputs": [
        {
          "output_type": "execute_result",
          "data": {
            "text/plain": [
              "2117458.0157158133"
            ]
          },
          "metadata": {
            "tags": []
          },
          "execution_count": 72
        }
      ]
    },
    {
      "cell_type": "markdown",
      "metadata": {
        "id": "k3x6PnAZwUIK",
        "colab_type": "text"
      },
      "source": [
        "# Forecast into unknown future . Retrain everything else as the data changes"
      ]
    },
    {
      "cell_type": "code",
      "metadata": {
        "id": "PbtuTMPrwMTC",
        "colab_type": "code",
        "colab": {}
      },
      "source": [
        "model=ARIMA(df1['Inventory'],order=(1,1,1))\n",
        "results=model.fit()\n",
        "fcast=results.predict(start=len(df1),end=len(df1)+11, typ='levels').rename('ARIMA (1,1,1) Forecasts')"
      ],
      "execution_count": 0,
      "outputs": []
    },
    {
      "cell_type": "code",
      "metadata": {
        "id": "k2RUzRNGxE06",
        "colab_type": "code",
        "outputId": "fc64f1e2-fd2d-4f11-ba18-391bed9b37a8",
        "colab": {
          "base_uri": "https://localhost:8080/",
          "height": 518
        }
      },
      "source": [
        "df1['Inventory'].plot(figsize=(12,8),legend=True)\n",
        "fcast.plot(legend=True)"
      ],
      "execution_count": 0,
      "outputs": [
        {
          "output_type": "execute_result",
          "data": {
            "text/plain": [
              "<matplotlib.axes._subplots.AxesSubplot at 0x7f6f80eead30>"
            ]
          },
          "metadata": {
            "tags": []
          },
          "execution_count": 75
        },
        {
          "output_type": "display_data",
          "data": {
            "image/png": "[encoded data removed]",
            "text/plain": [
              "<Figure size 864x576 with 1 Axes>"
            ]
          },
          "metadata": {
            "tags": []
          }
        }
      ]
    },
    {
      "cell_type": "code",
      "metadata": {
        "id": "-ahWOROFxPIL",
        "colab_type": "code",
        "colab": {}
      },
      "source": [
        ""
      ],
      "execution_count": 0,
      "outputs": []
    }
  ]
}