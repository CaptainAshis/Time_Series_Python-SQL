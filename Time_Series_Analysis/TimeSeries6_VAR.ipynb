{
  "nbformat": 4,
  "nbformat_minor": 0,
  "metadata": {
    "colab": {
      "name": "TimeSeries6_VAR.ipynb",
      "version": "0.3.2",
      "provenance": [],
      "collapsed_sections": [],
      "include_colab_link": true
    },
    "kernelspec": {
      "name": "python3",
      "display_name": "Python 3"
    }
  },
  "cells": [
    {
      "cell_type": "markdown",
      "metadata": {
        "id": "view-in-github",
        "colab_type": "text"
      },
      "source": [
        "<a href=\"https://colab.research.google.com/github/CaptainAshis/Time_Series_Python-SQL/blob/master/TimeSeries6_VAR.ipynb\" target=\"_parent\"><img src=\"https://colab.research.google.com/assets/colab-badge.svg\" alt=\"Open In Colab\"/></a>"
      ]
    },
    {
      "cell_type": "code",
      "metadata": {
        "id": "J8Em4L9PgtqN",
        "colab_type": "code",
        "colab": {}
      },
      "source": [
        "import pandas as pd\n",
        "import numpy as np\n",
        "from statsmodels.tsa.api import VAR\n",
        "from statsmodels.tsa.stattools import adfuller\n",
        "from statsmodels.tools.eval_measures import rmse\n",
        "\n",
        "%matplotlib inline"
      ],
      "execution_count": 0,
      "outputs": []
    },
    {
      "cell_type": "code",
      "metadata": {
        "id": "sk7N5V3SyUS1",
        "colab_type": "code",
        "outputId": "d0cb1ae4-4c02-4ece-d6e2-c9a5a13cf4ab",
        "colab": {
          "base_uri": "https://localhost:8080/",
          "height": 129
        }
      },
      "source": [
        "from google.colab import drive\n",
        "drive.mount('/content/drive')"
      ],
      "execution_count": 0,
      "outputs": [
        {
          "output_type": "stream",
          "text": [
            "Go to this URL in a browser: https://accounts.google.com/o/oauth2/auth?client_id=947318989803-6bn6qk8qdgf4n4g3pfee6491hc0brc4i.apps.googleusercontent.com&redirect_uri=urn%3Aietf%3Awg%3Aoauth%3A2.0%3Aoob&scope=email%20https%3A%2F%2Fwww.googleapis.com%2Fauth%2Fdocs.test%20https%3A%2F%2Fwww.googleapis.com%2Fauth%2Fdrive%20https%3A%2F%2Fwww.googleapis.com%2Fauth%2Fdrive.photos.readonly%20https%3A%2F%2Fwww.googleapis.com%2Fauth%2Fpeopleapi.readonly&response_type=code\n",
            "\n",
            "Enter your authorization code:\n",
            "··········\n",
            "Mounted at /content/drive\n"
          ],
          "name": "stdout"
        }
      ]
    },
    {
      "cell_type": "code",
      "metadata": {
        "id": "_B0PWZUoyWU7",
        "colab_type": "code",
        "outputId": "83b27335-2247-4d97-ad29-c4f664ff01e3",
        "colab": {
          "base_uri": "https://localhost:8080/",
          "height": 534
        }
      },
      "source": [
        "!pip install pmdarima\n",
        "from pmdarima import auto_arima"
      ],
      "execution_count": 0,
      "outputs": [
        {
          "output_type": "stream",
          "text": [
            "Collecting pmdarima\n",
            "\u001b[?25l  Downloading https://files.pythonhosted.org/packages/28/1d/1cf4dd83f3c129774343a642d4d42f9ad727d0d02f757893ea9c67514d78/pmdarima-1.2.1-cp36-cp36m-manylinux1_x86_64.whl (913kB)\n",
            "\u001b[K     |████████████████████████████████| 921kB 5.0MB/s \n",
            "\u001b[?25hRequirement already satisfied: Cython>=0.29 in /usr/local/lib/python3.6/dist-packages (from pmdarima) (0.29.10)\n",
            "Requirement already satisfied: scikit-learn>=0.19 in /usr/local/lib/python3.6/dist-packages (from pmdarima) (0.21.2)\n",
            "Requirement already satisfied: joblib>=0.11 in /usr/local/lib/python3.6/dist-packages (from pmdarima) (0.13.2)\n",
            "Requirement already satisfied: six>=1.5 in /usr/local/lib/python3.6/dist-packages (from pmdarima) (1.12.0)\n",
            "Collecting scipy<1.3,>=1.2 (from pmdarima)\n",
            "\u001b[?25l  Downloading https://files.pythonhosted.org/packages/83/69/20c8f3b7efe362093dff891239551ff90d4c463b5f52676e2694fea09442/scipy-1.2.2-cp36-cp36m-manylinux1_x86_64.whl (24.8MB)\n",
            "\u001b[K     |████████████████████████████████| 24.8MB 44.7MB/s \n",
            "\u001b[?25hRequirement already satisfied: pandas>=0.19 in /usr/local/lib/python3.6/dist-packages (from pmdarima) (0.24.2)\n",
            "Requirement already satisfied: statsmodels>=0.9.0 in /usr/local/lib/python3.6/dist-packages (from pmdarima) (0.10.0)\n",
            "Requirement already satisfied: numpy>=1.15 in /usr/local/lib/python3.6/dist-packages (from pmdarima) (1.16.4)\n",
            "Requirement already satisfied: python-dateutil>=2.5.0 in /usr/local/lib/python3.6/dist-packages (from pandas>=0.19->pmdarima) (2.5.3)\n",
            "Requirement already satisfied: pytz>=2011k in /usr/local/lib/python3.6/dist-packages (from pandas>=0.19->pmdarima) (2018.9)\n",
            "Requirement already satisfied: patsy>=0.4.0 in /usr/local/lib/python3.6/dist-packages (from statsmodels>=0.9.0->pmdarima) (0.5.1)\n",
            "\u001b[31mERROR: albumentations 0.1.12 has requirement imgaug<0.2.7,>=0.2.5, but you'll have imgaug 0.2.9 which is incompatible.\u001b[0m\n",
            "Installing collected packages: scipy, pmdarima\n",
            "  Found existing installation: scipy 1.3.0\n",
            "    Uninstalling scipy-1.3.0:\n",
            "      Successfully uninstalled scipy-1.3.0\n",
            "Successfully installed pmdarima-1.2.1 scipy-1.2.2\n"
          ],
          "name": "stdout"
        },
        {
          "output_type": "display_data",
          "data": {
            "application/vnd.colab-display-data+json": {
              "pip_warning": {
                "packages": [
                  "scipy"
                ]
              }
            }
          },
          "metadata": {
            "tags": []
          }
        }
      ]
    },
    {
      "cell_type": "code",
      "metadata": {
        "id": "h6NluWPTyYmD",
        "colab_type": "code",
        "outputId": "a9231b4c-4ec0-4f61-a7f9-e8aa60d8ca22",
        "colab": {
          "base_uri": "https://localhost:8080/",
          "height": 35
        }
      },
      "source": [
        "%cd drive/'My Drive'/amex/USConsumption"
      ],
      "execution_count": 0,
      "outputs": [
        {
          "output_type": "stream",
          "text": [
            "/content/drive/My Drive/amex/USConsumption\n"
          ],
          "name": "stdout"
        }
      ]
    },
    {
      "cell_type": "code",
      "metadata": {
        "id": "vhrwmb9Uya9g",
        "colab_type": "code",
        "colab": {}
      },
      "source": [
        "df=pd.read_csv('M2.csv',index_col=0,parse_dates=True)\n",
        "# df.index.freq='MS'\n",
        "sp=pd.read_csv('PCE.csv',index_col=0,parse_dates=True)\n",
        "# sp.index.freq='MS'"
      ],
      "execution_count": 0,
      "outputs": []
    },
    {
      "cell_type": "code",
      "metadata": {
        "id": "wGEZ7NGXyzBu",
        "colab_type": "code",
        "outputId": "fdeebb14-0f4a-4751-f06c-4961296fd9a0",
        "colab": {
          "base_uri": "https://localhost:8080/",
          "height": 330
        }
      },
      "source": [
        "df1=df.loc['1994-12-31':]\n",
        "df1.rename(columns={'M2':'Money'},inplace=True)\n",
        "df1.head()"
      ],
      "execution_count": 0,
      "outputs": [
        {
          "output_type": "stream",
          "text": [
            "/usr/local/lib/python3.6/dist-packages/pandas/core/frame.py:4025: SettingWithCopyWarning: \n",
            "A value is trying to be set on a copy of a slice from a DataFrame\n",
            "\n",
            "See the caveats in the documentation: http://pandas.pydata.org/pandas-docs/stable/indexing.html#indexing-view-versus-copy\n",
            "  return super(DataFrame, self).rename(**kwargs)\n"
          ],
          "name": "stderr"
        },
        {
          "output_type": "execute_result",
          "data": {
            "text/html": [
              "<div>\n",
              "<style scoped>\n",
              "    .dataframe tbody tr th:only-of-type {\n",
              "        vertical-align: middle;\n",
              "    }\n",
              "\n",
              "    .dataframe tbody tr th {\n",
              "        vertical-align: top;\n",
              "    }\n",
              "\n",
              "    .dataframe thead th {\n",
              "        text-align: right;\n",
              "    }\n",
              "</style>\n",
              "<table border=\"1\" class=\"dataframe\">\n",
              "  <thead>\n",
              "    <tr style=\"text-align: right;\">\n",
              "      <th></th>\n",
              "      <th>Money</th>\n",
              "    </tr>\n",
              "    <tr>\n",
              "      <th>DATE</th>\n",
              "      <th></th>\n",
              "    </tr>\n",
              "  </thead>\n",
              "  <tbody>\n",
              "    <tr>\n",
              "      <th>1995-01-02</th>\n",
              "      <td>3480.3</td>\n",
              "    </tr>\n",
              "    <tr>\n",
              "      <th>1995-01-09</th>\n",
              "      <td>3489.8</td>\n",
              "    </tr>\n",
              "    <tr>\n",
              "      <th>1995-01-16</th>\n",
              "      <td>3493.9</td>\n",
              "    </tr>\n",
              "    <tr>\n",
              "      <th>1995-01-23</th>\n",
              "      <td>3495.2</td>\n",
              "    </tr>\n",
              "    <tr>\n",
              "      <th>1995-01-30</th>\n",
              "      <td>3494.1</td>\n",
              "    </tr>\n",
              "  </tbody>\n",
              "</table>\n",
              "</div>"
            ],
            "text/plain": [
              "             Money\n",
              "DATE              \n",
              "1995-01-02  3480.3\n",
              "1995-01-09  3489.8\n",
              "1995-01-16  3493.9\n",
              "1995-01-23  3495.2\n",
              "1995-01-30  3494.1"
            ]
          },
          "metadata": {
            "tags": []
          },
          "execution_count": 6
        }
      ]
    },
    {
      "cell_type": "code",
      "metadata": {
        "id": "BlHBQsLS0geD",
        "colab_type": "code",
        "outputId": "b8c63055-57ac-4663-8252-a9924c474670",
        "colab": {
          "base_uri": "https://localhost:8080/",
          "height": 144
        }
      },
      "source": [
        "sp.head(2)"
      ],
      "execution_count": 0,
      "outputs": [
        {
          "output_type": "execute_result",
          "data": {
            "text/html": [
              "<div>\n",
              "<style scoped>\n",
              "    .dataframe tbody tr th:only-of-type {\n",
              "        vertical-align: middle;\n",
              "    }\n",
              "\n",
              "    .dataframe tbody tr th {\n",
              "        vertical-align: top;\n",
              "    }\n",
              "\n",
              "    .dataframe thead th {\n",
              "        text-align: right;\n",
              "    }\n",
              "</style>\n",
              "<table border=\"1\" class=\"dataframe\">\n",
              "  <thead>\n",
              "    <tr style=\"text-align: right;\">\n",
              "      <th></th>\n",
              "      <th>PCE</th>\n",
              "    </tr>\n",
              "    <tr>\n",
              "      <th>DATE</th>\n",
              "      <th></th>\n",
              "    </tr>\n",
              "  </thead>\n",
              "  <tbody>\n",
              "    <tr>\n",
              "      <th>1959-01-01</th>\n",
              "      <td>306.1</td>\n",
              "    </tr>\n",
              "    <tr>\n",
              "      <th>1959-02-01</th>\n",
              "      <td>309.6</td>\n",
              "    </tr>\n",
              "  </tbody>\n",
              "</table>\n",
              "</div>"
            ],
            "text/plain": [
              "              PCE\n",
              "DATE             \n",
              "1959-01-01  306.1\n",
              "1959-02-01  309.6"
            ]
          },
          "metadata": {
            "tags": []
          },
          "execution_count": 7
        }
      ]
    },
    {
      "cell_type": "code",
      "metadata": {
        "id": "SDGB-jmFzT5V",
        "colab_type": "code",
        "outputId": "031e0626-ddd4-41d9-ae2a-c38a7246d1ec",
        "colab": {
          "base_uri": "https://localhost:8080/",
          "height": 330
        }
      },
      "source": [
        "sp1=sp.loc['1994-12-31':]\n",
        "sp1.rename(columns={'PCE':'Spending'},inplace=True)\n",
        "sp1.head()"
      ],
      "execution_count": 0,
      "outputs": [
        {
          "output_type": "stream",
          "text": [
            "/usr/local/lib/python3.6/dist-packages/pandas/core/frame.py:4025: SettingWithCopyWarning: \n",
            "A value is trying to be set on a copy of a slice from a DataFrame\n",
            "\n",
            "See the caveats in the documentation: http://pandas.pydata.org/pandas-docs/stable/indexing.html#indexing-view-versus-copy\n",
            "  return super(DataFrame, self).rename(**kwargs)\n"
          ],
          "name": "stderr"
        },
        {
          "output_type": "execute_result",
          "data": {
            "text/html": [
              "<div>\n",
              "<style scoped>\n",
              "    .dataframe tbody tr th:only-of-type {\n",
              "        vertical-align: middle;\n",
              "    }\n",
              "\n",
              "    .dataframe tbody tr th {\n",
              "        vertical-align: top;\n",
              "    }\n",
              "\n",
              "    .dataframe thead th {\n",
              "        text-align: right;\n",
              "    }\n",
              "</style>\n",
              "<table border=\"1\" class=\"dataframe\">\n",
              "  <thead>\n",
              "    <tr style=\"text-align: right;\">\n",
              "      <th></th>\n",
              "      <th>Spending</th>\n",
              "    </tr>\n",
              "    <tr>\n",
              "      <th>DATE</th>\n",
              "      <th></th>\n",
              "    </tr>\n",
              "  </thead>\n",
              "  <tbody>\n",
              "    <tr>\n",
              "      <th>1995-01-01</th>\n",
              "      <td>4851.2</td>\n",
              "    </tr>\n",
              "    <tr>\n",
              "      <th>1995-02-01</th>\n",
              "      <td>4850.8</td>\n",
              "    </tr>\n",
              "    <tr>\n",
              "      <th>1995-03-01</th>\n",
              "      <td>4885.4</td>\n",
              "    </tr>\n",
              "    <tr>\n",
              "      <th>1995-04-01</th>\n",
              "      <td>4890.2</td>\n",
              "    </tr>\n",
              "    <tr>\n",
              "      <th>1995-05-01</th>\n",
              "      <td>4933.1</td>\n",
              "    </tr>\n",
              "  </tbody>\n",
              "</table>\n",
              "</div>"
            ],
            "text/plain": [
              "            Spending\n",
              "DATE                \n",
              "1995-01-01    4851.2\n",
              "1995-02-01    4850.8\n",
              "1995-03-01    4885.4\n",
              "1995-04-01    4890.2\n",
              "1995-05-01    4933.1"
            ]
          },
          "metadata": {
            "tags": []
          },
          "execution_count": 8
        }
      ]
    },
    {
      "cell_type": "code",
      "metadata": {
        "id": "QL9LF6KEzdV5",
        "colab_type": "code",
        "colab": {}
      },
      "source": [
        "# df1.groupby(['DATE']).mean()"
      ],
      "execution_count": 0,
      "outputs": []
    },
    {
      "cell_type": "code",
      "metadata": {
        "id": "DXjstuOq07Vj",
        "colab_type": "code",
        "colab": {}
      },
      "source": [
        "df1=df1.resample('M').first()"
      ],
      "execution_count": 0,
      "outputs": []
    },
    {
      "cell_type": "code",
      "metadata": {
        "id": "g4Su6TAq1aL-",
        "colab_type": "code",
        "colab": {}
      },
      "source": [
        "sp1=sp1.resample('M').first()"
      ],
      "execution_count": 0,
      "outputs": []
    },
    {
      "cell_type": "code",
      "metadata": {
        "id": "8CUARcIG2jR4",
        "colab_type": "code",
        "outputId": "ab6a3c53-4244-4a85-9e65-fb3145332d89",
        "colab": {
          "base_uri": "https://localhost:8080/",
          "height": 238
        }
      },
      "source": [
        "fdf=df1.join(sp1)\n",
        "fdf.head()"
      ],
      "execution_count": 0,
      "outputs": [
        {
          "output_type": "execute_result",
          "data": {
            "text/html": [
              "<div>\n",
              "<style scoped>\n",
              "    .dataframe tbody tr th:only-of-type {\n",
              "        vertical-align: middle;\n",
              "    }\n",
              "\n",
              "    .dataframe tbody tr th {\n",
              "        vertical-align: top;\n",
              "    }\n",
              "\n",
              "    .dataframe thead th {\n",
              "        text-align: right;\n",
              "    }\n",
              "</style>\n",
              "<table border=\"1\" class=\"dataframe\">\n",
              "  <thead>\n",
              "    <tr style=\"text-align: right;\">\n",
              "      <th></th>\n",
              "      <th>Money</th>\n",
              "      <th>Spending</th>\n",
              "    </tr>\n",
              "    <tr>\n",
              "      <th>DATE</th>\n",
              "      <th></th>\n",
              "      <th></th>\n",
              "    </tr>\n",
              "  </thead>\n",
              "  <tbody>\n",
              "    <tr>\n",
              "      <th>1995-01-31</th>\n",
              "      <td>3480.3</td>\n",
              "      <td>4851.2</td>\n",
              "    </tr>\n",
              "    <tr>\n",
              "      <th>1995-02-28</th>\n",
              "      <td>3492.4</td>\n",
              "      <td>4850.8</td>\n",
              "    </tr>\n",
              "    <tr>\n",
              "      <th>1995-03-31</th>\n",
              "      <td>3486.6</td>\n",
              "      <td>4885.4</td>\n",
              "    </tr>\n",
              "    <tr>\n",
              "      <th>1995-04-30</th>\n",
              "      <td>3485.1</td>\n",
              "      <td>4890.2</td>\n",
              "    </tr>\n",
              "    <tr>\n",
              "      <th>1995-05-31</th>\n",
              "      <td>3510.7</td>\n",
              "      <td>4933.1</td>\n",
              "    </tr>\n",
              "  </tbody>\n",
              "</table>\n",
              "</div>"
            ],
            "text/plain": [
              "             Money  Spending\n",
              "DATE                        \n",
              "1995-01-31  3480.3    4851.2\n",
              "1995-02-28  3492.4    4850.8\n",
              "1995-03-31  3486.6    4885.4\n",
              "1995-04-30  3485.1    4890.2\n",
              "1995-05-31  3510.7    4933.1"
            ]
          },
          "metadata": {
            "tags": []
          },
          "execution_count": 12
        }
      ]
    },
    {
      "cell_type": "code",
      "metadata": {
        "id": "5Kg97STt21E2",
        "colab_type": "code",
        "outputId": "c6ef2732-bd44-4f96-dcf4-e01d912ae5cb",
        "colab": {
          "base_uri": "https://localhost:8080/",
          "height": 72
        }
      },
      "source": [
        "fdf.isna().sum()"
      ],
      "execution_count": 0,
      "outputs": [
        {
          "output_type": "execute_result",
          "data": {
            "text/plain": [
              "Money       0\n",
              "Spending    1\n",
              "dtype: int64"
            ]
          },
          "metadata": {
            "tags": []
          },
          "execution_count": 13
        }
      ]
    },
    {
      "cell_type": "code",
      "metadata": {
        "id": "l1oZAgGy2393",
        "colab_type": "code",
        "outputId": "f35cd38e-5865-4499-8f04-249e57647c94",
        "colab": {
          "base_uri": "https://localhost:8080/",
          "height": 35
        }
      },
      "source": [
        "fdf.shape"
      ],
      "execution_count": 0,
      "outputs": [
        {
          "output_type": "execute_result",
          "data": {
            "text/plain": [
              "(294, 2)"
            ]
          },
          "metadata": {
            "tags": []
          },
          "execution_count": 14
        }
      ]
    },
    {
      "cell_type": "code",
      "metadata": {
        "id": "CdBpFNV43BMI",
        "colab_type": "code",
        "colab": {}
      },
      "source": [
        "fdf=fdf.dropna()"
      ],
      "execution_count": 0,
      "outputs": []
    },
    {
      "cell_type": "code",
      "metadata": {
        "id": "YedaplHk3EiA",
        "colab_type": "code",
        "outputId": "3e2b102f-c833-424b-9206-73763feaf66e",
        "colab": {
          "base_uri": "https://localhost:8080/",
          "height": 35
        }
      },
      "source": [
        "fdf.shape"
      ],
      "execution_count": 0,
      "outputs": [
        {
          "output_type": "execute_result",
          "data": {
            "text/plain": [
              "(293, 2)"
            ]
          },
          "metadata": {
            "tags": []
          },
          "execution_count": 16
        }
      ]
    },
    {
      "cell_type": "code",
      "metadata": {
        "id": "Mx-Bvvlg3Gb3",
        "colab_type": "code",
        "outputId": "98248245-8e90-4dcc-c1d8-e986e6bbbeb2",
        "colab": {
          "base_uri": "https://localhost:8080/",
          "height": 518
        }
      },
      "source": [
        "fdf.plot(figsize=(12,8))"
      ],
      "execution_count": 0,
      "outputs": [
        {
          "output_type": "execute_result",
          "data": {
            "text/plain": [
              "<matplotlib.axes._subplots.AxesSubplot at 0x7f8a49c1d390>"
            ]
          },
          "metadata": {
            "tags": []
          },
          "execution_count": 17
        },
        {
          "output_type": "display_data",
          "data": {
            "image/png": "[encoded data removed]",
            "text/plain": [
              "<Figure size 864x576 with 1 Axes>"
            ]
          },
          "metadata": {
            "tags": []
          }
        }
      ]
    },
    {
      "cell_type": "code",
      "metadata": {
        "id": "jFeR0MUh3Lum",
        "colab_type": "code",
        "colab": {}
      },
      "source": [
        "from statsmodels.tsa.stattools import adfuller\n",
        "\n",
        "def adf_test(series,title=''):\n",
        "  \"\"\"Pass in a time series and an optional title, returns an adf report\"\"\"\n",
        "  print(f'Augmented Dickey Fuller Test:{title}')\n",
        "  result=adfuller(series.dropna(),autolag='AIC') # dropna handles the differenced data\n",
        "  \n",
        "  labels=['ADF Test Statistics','p-value','# Lags used','# Observations']\n",
        "  out=pd.Series(result[0:4],index=labels)\n",
        "  \n",
        "  for k , v in result[4].items():\n",
        "    out[f'critical value ({k})']=v\n",
        "    \n",
        "  print(out.to_string()) # to_string() removes the line \"dtype:float64\"\n",
        "  \n",
        "  if result[1]<=0.05:\n",
        "    print(\"Strong evidence against the null hypothesis\")\n",
        "    print(\"Reject the null hypothesis\")\n",
        "    print(\"Data has no unit root and is stationary\")\n",
        "  else:\n",
        "    print(\"Weak evidence against the null hypothesis\")\n",
        "    print(\"Fail the null hypothesis\")\n",
        "    print(\"Data has a unit root and is non-stationary\")"
      ],
      "execution_count": 0,
      "outputs": []
    },
    {
      "cell_type": "code",
      "metadata": {
        "id": "etB9M5mD3nm9",
        "colab_type": "code",
        "outputId": "a1c7c05c-c492-4ae7-aaa9-9357fd36541e",
        "colab": {
          "base_uri": "https://localhost:8080/",
          "height": 35
        }
      },
      "source": [
        "fdf.columns"
      ],
      "execution_count": 0,
      "outputs": [
        {
          "output_type": "execute_result",
          "data": {
            "text/plain": [
              "Index(['Money', 'Spending'], dtype='object')"
            ]
          },
          "metadata": {
            "tags": []
          },
          "execution_count": 19
        }
      ]
    },
    {
      "cell_type": "code",
      "metadata": {
        "id": "4l6F5mmW3gGN",
        "colab_type": "code",
        "outputId": "61630bb6-343d-4dc0-d39b-9691db9318fc",
        "colab": {
          "base_uri": "https://localhost:8080/",
          "height": 424
        }
      },
      "source": [
        "adf_test(fdf['Money'])\n",
        "adf_test(fdf['Spending'])"
      ],
      "execution_count": 0,
      "outputs": [
        {
          "output_type": "stream",
          "text": [
            "Augmented Dickey Fuller Test:\n",
            "ADF Test Statistics       3.898890\n",
            "p-value                   1.000000\n",
            "# Lags used               3.000000\n",
            "# Observations          289.000000\n",
            "critical value (1%)      -3.453182\n",
            "critical value (5%)      -2.871593\n",
            "critical value (10%)     -2.572127\n",
            "Weak evidence against the null hypothesis\n",
            "Fail the null hypothesis\n",
            "Data has a unit root and is non-stationary\n",
            "Augmented Dickey Fuller Test:\n",
            "ADF Test Statistics       1.913232\n",
            "p-value                   0.998549\n",
            "# Lags used               2.000000\n",
            "# Observations          290.000000\n",
            "critical value (1%)      -3.453102\n",
            "critical value (5%)      -2.871559\n",
            "critical value (10%)     -2.572108\n",
            "Weak evidence against the null hypothesis\n",
            "Fail the null hypothesis\n",
            "Data has a unit root and is non-stationary\n"
          ],
          "name": "stdout"
        }
      ]
    },
    {
      "cell_type": "code",
      "metadata": {
        "id": "EghRZbSV3ptT",
        "colab_type": "code",
        "outputId": "e2233c36-3002-4d33-adba-0802b15ba930",
        "colab": {
          "base_uri": "https://localhost:8080/",
          "height": 175
        }
      },
      "source": [
        "df_transformed=fdf.diff()\n",
        "df_transformed.head(3)"
      ],
      "execution_count": 0,
      "outputs": [
        {
          "output_type": "execute_result",
          "data": {
            "text/html": [
              "<div>\n",
              "<style scoped>\n",
              "    .dataframe tbody tr th:only-of-type {\n",
              "        vertical-align: middle;\n",
              "    }\n",
              "\n",
              "    .dataframe tbody tr th {\n",
              "        vertical-align: top;\n",
              "    }\n",
              "\n",
              "    .dataframe thead th {\n",
              "        text-align: right;\n",
              "    }\n",
              "</style>\n",
              "<table border=\"1\" class=\"dataframe\">\n",
              "  <thead>\n",
              "    <tr style=\"text-align: right;\">\n",
              "      <th></th>\n",
              "      <th>Money</th>\n",
              "      <th>Spending</th>\n",
              "    </tr>\n",
              "    <tr>\n",
              "      <th>DATE</th>\n",
              "      <th></th>\n",
              "      <th></th>\n",
              "    </tr>\n",
              "  </thead>\n",
              "  <tbody>\n",
              "    <tr>\n",
              "      <th>1995-01-31</th>\n",
              "      <td>NaN</td>\n",
              "      <td>NaN</td>\n",
              "    </tr>\n",
              "    <tr>\n",
              "      <th>1995-02-28</th>\n",
              "      <td>12.1</td>\n",
              "      <td>-0.4</td>\n",
              "    </tr>\n",
              "    <tr>\n",
              "      <th>1995-03-31</th>\n",
              "      <td>-5.8</td>\n",
              "      <td>34.6</td>\n",
              "    </tr>\n",
              "  </tbody>\n",
              "</table>\n",
              "</div>"
            ],
            "text/plain": [
              "            Money  Spending\n",
              "DATE                       \n",
              "1995-01-31    NaN       NaN\n",
              "1995-02-28   12.1      -0.4\n",
              "1995-03-31   -5.8      34.6"
            ]
          },
          "metadata": {
            "tags": []
          },
          "execution_count": 21
        }
      ]
    },
    {
      "cell_type": "code",
      "metadata": {
        "id": "ar7ECjbOzgn4",
        "colab_type": "code",
        "outputId": "8adad0fb-b78f-40df-acd7-ec535c1c4123",
        "colab": {
          "base_uri": "https://localhost:8080/",
          "height": 424
        }
      },
      "source": [
        "adf_test(df_transformed['Money'])\n",
        "adf_test(df_transformed['Spending'])"
      ],
      "execution_count": 0,
      "outputs": [
        {
          "output_type": "stream",
          "text": [
            "Augmented Dickey Fuller Test:\n",
            "ADF Test Statistics    -6.232368e+00\n",
            "p-value                 4.917983e-08\n",
            "# Lags used             2.000000e+00\n",
            "# Observations          2.890000e+02\n",
            "critical value (1%)    -3.453182e+00\n",
            "critical value (5%)    -2.871593e+00\n",
            "critical value (10%)   -2.572127e+00\n",
            "Strong evidence against the null hypothesis\n",
            "Reject the null hypothesis\n",
            "Data has no unit root and is stationary\n",
            "Augmented Dickey Fuller Test:\n",
            "ADF Test Statistics    -1.010762e+01\n",
            "p-value                 1.020036e-17\n",
            "# Lags used             1.000000e+00\n",
            "# Observations          2.900000e+02\n",
            "critical value (1%)    -3.453102e+00\n",
            "critical value (5%)    -2.871559e+00\n",
            "critical value (10%)   -2.572108e+00\n",
            "Strong evidence against the null hypothesis\n",
            "Reject the null hypothesis\n",
            "Data has no unit root and is stationary\n"
          ],
          "name": "stdout"
        }
      ]
    },
    {
      "cell_type": "code",
      "metadata": {
        "id": "hAva5tc50HnF",
        "colab_type": "code",
        "outputId": "940fc83d-46bb-4d15-b7bd-42636db80c42",
        "colab": {
          "base_uri": "https://localhost:8080/",
          "height": 238
        }
      },
      "source": [
        "df_transformed=df_transformed.dropna()\n",
        "df_transformed.head()"
      ],
      "execution_count": 0,
      "outputs": [
        {
          "output_type": "execute_result",
          "data": {
            "text/html": [
              "<div>\n",
              "<style scoped>\n",
              "    .dataframe tbody tr th:only-of-type {\n",
              "        vertical-align: middle;\n",
              "    }\n",
              "\n",
              "    .dataframe tbody tr th {\n",
              "        vertical-align: top;\n",
              "    }\n",
              "\n",
              "    .dataframe thead th {\n",
              "        text-align: right;\n",
              "    }\n",
              "</style>\n",
              "<table border=\"1\" class=\"dataframe\">\n",
              "  <thead>\n",
              "    <tr style=\"text-align: right;\">\n",
              "      <th></th>\n",
              "      <th>Money</th>\n",
              "      <th>Spending</th>\n",
              "    </tr>\n",
              "    <tr>\n",
              "      <th>DATE</th>\n",
              "      <th></th>\n",
              "      <th></th>\n",
              "    </tr>\n",
              "  </thead>\n",
              "  <tbody>\n",
              "    <tr>\n",
              "      <th>1995-02-28</th>\n",
              "      <td>12.1</td>\n",
              "      <td>-0.4</td>\n",
              "    </tr>\n",
              "    <tr>\n",
              "      <th>1995-03-31</th>\n",
              "      <td>-5.8</td>\n",
              "      <td>34.6</td>\n",
              "    </tr>\n",
              "    <tr>\n",
              "      <th>1995-04-30</th>\n",
              "      <td>-1.5</td>\n",
              "      <td>4.8</td>\n",
              "    </tr>\n",
              "    <tr>\n",
              "      <th>1995-05-31</th>\n",
              "      <td>25.6</td>\n",
              "      <td>42.9</td>\n",
              "    </tr>\n",
              "    <tr>\n",
              "      <th>1995-06-30</th>\n",
              "      <td>30.7</td>\n",
              "      <td>44.4</td>\n",
              "    </tr>\n",
              "  </tbody>\n",
              "</table>\n",
              "</div>"
            ],
            "text/plain": [
              "            Money  Spending\n",
              "DATE                       \n",
              "1995-02-28   12.1      -0.4\n",
              "1995-03-31   -5.8      34.6\n",
              "1995-04-30   -1.5       4.8\n",
              "1995-05-31   25.6      42.9\n",
              "1995-06-30   30.7      44.4"
            ]
          },
          "metadata": {
            "tags": []
          },
          "execution_count": 23
        }
      ]
    },
    {
      "cell_type": "code",
      "metadata": {
        "id": "7Q6LJiPm0sAo",
        "colab_type": "code",
        "outputId": "2f2dfd9b-22ea-4c6b-f64a-f7203bf98847",
        "colab": {
          "base_uri": "https://localhost:8080/",
          "height": 35
        }
      },
      "source": [
        "df_transformed.shape"
      ],
      "execution_count": 0,
      "outputs": [
        {
          "output_type": "execute_result",
          "data": {
            "text/plain": [
              "(292, 2)"
            ]
          },
          "metadata": {
            "tags": []
          },
          "execution_count": 24
        }
      ]
    },
    {
      "cell_type": "code",
      "metadata": {
        "id": "9iPN-eFJ0wsL",
        "colab_type": "code",
        "colab": {}
      },
      "source": [
        "#No. of observations\n",
        "nobs=12"
      ],
      "execution_count": 0,
      "outputs": []
    },
    {
      "cell_type": "code",
      "metadata": {
        "id": "5y2ZSDL005f0",
        "colab_type": "code",
        "colab": {}
      },
      "source": [
        "train=df_transformed[:-nobs]\n",
        "test=df_transformed[-nobs:]"
      ],
      "execution_count": 0,
      "outputs": []
    },
    {
      "cell_type": "code",
      "metadata": {
        "id": "CS9725SP1Czc",
        "colab_type": "code",
        "outputId": "b4d98929-10dc-4d45-e6ca-fafffeef46af",
        "colab": {
          "base_uri": "https://localhost:8080/",
          "height": 35
        }
      },
      "source": [
        "len(test)"
      ],
      "execution_count": 0,
      "outputs": [
        {
          "output_type": "execute_result",
          "data": {
            "text/plain": [
              "12"
            ]
          },
          "metadata": {
            "tags": []
          },
          "execution_count": 27
        }
      ]
    },
    {
      "cell_type": "markdown",
      "metadata": {
        "id": "n4Tnr-1u1W0A",
        "colab_type": "text"
      },
      "source": [
        "# Choose the Order of VAR  using grid search . since autoarima isnt there for VAR, so lets go with for loop"
      ]
    },
    {
      "cell_type": "code",
      "metadata": {
        "id": "oPIiNE9a1Hnk",
        "colab_type": "code",
        "outputId": "71053eb4-769c-4b72-f303-407e0b624e63",
        "colab": {
          "base_uri": "https://localhost:8080/",
          "height": 682
        }
      },
      "source": [
        "model=VAR(train)\n",
        "\n",
        "for p in [1,2,3,4,5,6,7,8,9]:\n",
        "  results=model.fit(p)\n",
        "  print(f'ORDER{p}')\n",
        "  print(f'AIC:{results.aic}')\n",
        "  print('\\n')"
      ],
      "execution_count": 0,
      "outputs": [
        {
          "output_type": "stream",
          "text": [
            "ORDER1\n",
            "AIC:14.027728895955347\n",
            "\n",
            "\n",
            "ORDER2\n",
            "AIC:13.973283405250198\n",
            "\n",
            "\n",
            "ORDER3\n",
            "AIC:13.941266594988784\n",
            "\n",
            "\n",
            "ORDER4\n",
            "AIC:13.925695815805781\n",
            "\n",
            "\n",
            "ORDER5\n",
            "AIC:13.948748023208173\n",
            "\n",
            "\n",
            "ORDER6\n",
            "AIC:13.941450758255497\n",
            "\n",
            "\n",
            "ORDER7\n",
            "AIC:13.965770393786592\n",
            "\n",
            "\n",
            "ORDER8\n",
            "AIC:13.977555750020674\n",
            "\n",
            "\n",
            "ORDER9\n",
            "AIC:13.947027803392572\n",
            "\n",
            "\n"
          ],
          "name": "stdout"
        }
      ]
    },
    {
      "cell_type": "code",
      "metadata": {
        "id": "iClGErPS1Mhv",
        "colab_type": "code",
        "outputId": "8cdb9c40-4349-4d50-d5fa-785d784fb330",
        "colab": {
          "base_uri": "https://localhost:8080/",
          "height": 886
        }
      },
      "source": [
        "results=model.fit(4)\n",
        "results.summary()"
      ],
      "execution_count": 0,
      "outputs": [
        {
          "output_type": "execute_result",
          "data": {
            "text/plain": [
              "  Summary of Regression Results   \n",
              "==================================\n",
              "Model:                         VAR\n",
              "Method:                        OLS\n",
              "Date:           Fri, 05, Jul, 2019\n",
              "Time:                     14:05:51\n",
              "--------------------------------------------------------------------\n",
              "No. of Equations:         2.00000    BIC:                    14.1618\n",
              "Nobs:                     276.000    HQIC:                   14.0204\n",
              "Log likelihood:          -2687.00    FPE:                1.11654e+06\n",
              "AIC:                      13.9257    Det(Omega_mle):     1.04713e+06\n",
              "--------------------------------------------------------------------\n",
              "Results for equation Money\n",
              "==============================================================================\n",
              "                 coefficient       std. error           t-stat            prob\n",
              "------------------------------------------------------------------------------\n",
              "const              22.578347         4.916329            4.593           0.000\n",
              "L1.Money            0.163339         0.060099            2.718           0.007\n",
              "L1.Spending        -0.179190         0.053340           -3.359           0.001\n",
              "L2.Money            0.182151         0.059095            3.082           0.002\n",
              "L2.Spending        -0.124621         0.053937           -2.310           0.021\n",
              "L3.Money            0.249819         0.058642            4.260           0.000\n",
              "L3.Spending        -0.058318         0.054560           -1.069           0.285\n",
              "L4.Money           -0.046408         0.058795           -0.789           0.430\n",
              "L4.Spending         0.197121         0.055114            3.577           0.000\n",
              "==============================================================================\n",
              "\n",
              "Results for equation Spending\n",
              "==============================================================================\n",
              "                 coefficient       std. error           t-stat            prob\n",
              "------------------------------------------------------------------------------\n",
              "const              20.219331         5.663624            3.570           0.000\n",
              "L1.Money            0.054546         0.069234            0.788           0.431\n",
              "L1.Spending        -0.002995         0.061447           -0.049           0.961\n",
              "L2.Money           -0.021969         0.068078           -0.323           0.747\n",
              "L2.Spending         0.152465         0.062136            2.454           0.014\n",
              "L3.Money           -0.023078         0.067555           -0.342           0.733\n",
              "L3.Spending         0.106597         0.062853            1.696           0.090\n",
              "L4.Money            0.033461         0.067732            0.494           0.621\n",
              "L4.Spending         0.074664         0.063491            1.176           0.240\n",
              "==============================================================================\n",
              "\n",
              "Correlation matrix of residuals\n",
              "               Money  Spending\n",
              "Money       1.000000  0.090040\n",
              "Spending    0.090040  1.000000\n",
              "\n"
            ]
          },
          "metadata": {
            "tags": []
          },
          "execution_count": 29
        }
      ]
    },
    {
      "cell_type": "code",
      "metadata": {
        "id": "t4Qj8Cs12ku5",
        "colab_type": "code",
        "outputId": "b0f5cc5e-627c-4bdf-894b-cef2ad65c810",
        "colab": {
          "base_uri": "https://localhost:8080/",
          "height": 35
        }
      },
      "source": [
        "train.values.shape"
      ],
      "execution_count": 0,
      "outputs": [
        {
          "output_type": "execute_result",
          "data": {
            "text/plain": [
              "(280, 2)"
            ]
          },
          "metadata": {
            "tags": []
          },
          "execution_count": 30
        }
      ]
    },
    {
      "cell_type": "code",
      "metadata": {
        "id": "OzuQj161d9XI",
        "colab_type": "code",
        "colab": {}
      },
      "source": [
        "lagged_values=train.values[-5:]\n",
        "z=results.forecast(y=lagged_values,steps=12)\n"
      ],
      "execution_count": 0,
      "outputs": []
    },
    {
      "cell_type": "code",
      "metadata": {
        "id": "60yD6oXmeLgK",
        "colab_type": "code",
        "outputId": "61bc67e6-67bf-4ecb-b08e-83d97eec69e4",
        "colab": {
          "base_uri": "https://localhost:8080/",
          "height": 457
        }
      },
      "source": [
        "test"
      ],
      "execution_count": 0,
      "outputs": [
        {
          "output_type": "execute_result",
          "data": {
            "text/html": [
              "<div>\n",
              "<style scoped>\n",
              "    .dataframe tbody tr th:only-of-type {\n",
              "        vertical-align: middle;\n",
              "    }\n",
              "\n",
              "    .dataframe tbody tr th {\n",
              "        vertical-align: top;\n",
              "    }\n",
              "\n",
              "    .dataframe thead th {\n",
              "        text-align: right;\n",
              "    }\n",
              "</style>\n",
              "<table border=\"1\" class=\"dataframe\">\n",
              "  <thead>\n",
              "    <tr style=\"text-align: right;\">\n",
              "      <th></th>\n",
              "      <th>Money</th>\n",
              "      <th>Spending</th>\n",
              "    </tr>\n",
              "    <tr>\n",
              "      <th>DATE</th>\n",
              "      <th></th>\n",
              "      <th></th>\n",
              "    </tr>\n",
              "  </thead>\n",
              "  <tbody>\n",
              "    <tr>\n",
              "      <th>2018-06-30</th>\n",
              "      <td>82.6</td>\n",
              "      <td>60.4</td>\n",
              "    </tr>\n",
              "    <tr>\n",
              "      <th>2018-07-31</th>\n",
              "      <td>57.3</td>\n",
              "      <td>67.4</td>\n",
              "    </tr>\n",
              "    <tr>\n",
              "      <th>2018-08-31</th>\n",
              "      <td>18.5</td>\n",
              "      <td>54.2</td>\n",
              "    </tr>\n",
              "    <tr>\n",
              "      <th>2018-09-30</th>\n",
              "      <td>68.1</td>\n",
              "      <td>17.8</td>\n",
              "    </tr>\n",
              "    <tr>\n",
              "      <th>2018-10-31</th>\n",
              "      <td>30.4</td>\n",
              "      <td>88.5</td>\n",
              "    </tr>\n",
              "    <tr>\n",
              "      <th>2018-11-30</th>\n",
              "      <td>-10.1</td>\n",
              "      <td>70.0</td>\n",
              "    </tr>\n",
              "    <tr>\n",
              "      <th>2018-12-31</th>\n",
              "      <td>80.1</td>\n",
              "      <td>-81.5</td>\n",
              "    </tr>\n",
              "    <tr>\n",
              "      <th>2019-01-31</th>\n",
              "      <td>86.3</td>\n",
              "      <td>47.7</td>\n",
              "    </tr>\n",
              "    <tr>\n",
              "      <th>2019-02-28</th>\n",
              "      <td>41.6</td>\n",
              "      <td>-23.4</td>\n",
              "    </tr>\n",
              "    <tr>\n",
              "      <th>2019-03-31</th>\n",
              "      <td>3.4</td>\n",
              "      <td>147.5</td>\n",
              "    </tr>\n",
              "    <tr>\n",
              "      <th>2019-04-30</th>\n",
              "      <td>61.5</td>\n",
              "      <td>79.5</td>\n",
              "    </tr>\n",
              "    <tr>\n",
              "      <th>2019-05-31</th>\n",
              "      <td>47.7</td>\n",
              "      <td>59.7</td>\n",
              "    </tr>\n",
              "  </tbody>\n",
              "</table>\n",
              "</div>"
            ],
            "text/plain": [
              "            Money  Spending\n",
              "DATE                       \n",
              "2018-06-30   82.6      60.4\n",
              "2018-07-31   57.3      67.4\n",
              "2018-08-31   18.5      54.2\n",
              "2018-09-30   68.1      17.8\n",
              "2018-10-31   30.4      88.5\n",
              "2018-11-30  -10.1      70.0\n",
              "2018-12-31   80.1     -81.5\n",
              "2019-01-31   86.3      47.7\n",
              "2019-02-28   41.6     -23.4\n",
              "2019-03-31    3.4     147.5\n",
              "2019-04-30   61.5      79.5\n",
              "2019-05-31   47.7      59.7"
            ]
          },
          "metadata": {
            "tags": []
          },
          "execution_count": 33
        }
      ]
    },
    {
      "cell_type": "code",
      "metadata": {
        "id": "P5zdkSVR0d8Y",
        "colab_type": "code",
        "outputId": "937f5b67-9823-4534-a2a4-867cb9206a17",
        "colab": {
          "base_uri": "https://localhost:8080/",
          "height": 91
        }
      },
      "source": [
        "idx=pd.date_range('2018-06-30',periods=12,freq='M')\n",
        "idx"
      ],
      "execution_count": 0,
      "outputs": [
        {
          "output_type": "execute_result",
          "data": {
            "text/plain": [
              "DatetimeIndex(['2018-06-30', '2018-07-31', '2018-08-31', '2018-09-30',\n",
              "               '2018-10-31', '2018-11-30', '2018-12-31', '2019-01-31',\n",
              "               '2019-02-28', '2019-03-31', '2019-04-30', '2019-05-31'],\n",
              "              dtype='datetime64[ns]', freq='M')"
            ]
          },
          "metadata": {
            "tags": []
          },
          "execution_count": 35
        }
      ]
    },
    {
      "cell_type": "code",
      "metadata": {
        "id": "b_mXTtW100Mq",
        "colab_type": "code",
        "colab": {}
      },
      "source": [
        "df_forecast=pd.DataFrame(data=z,index=idx,columns=['Money_1d','Spend_1d'])"
      ],
      "execution_count": 0,
      "outputs": []
    },
    {
      "cell_type": "code",
      "metadata": {
        "id": "NazICW0R1orP",
        "colab_type": "code",
        "outputId": "88d6e0c9-bc11-4db1-ae70-a5d5dd9b5b77",
        "colab": {
          "base_uri": "https://localhost:8080/",
          "height": 426
        }
      },
      "source": [
        "df_forecast"
      ],
      "execution_count": 0,
      "outputs": [
        {
          "output_type": "execute_result",
          "data": {
            "text/html": [
              "<div>\n",
              "<style scoped>\n",
              "    .dataframe tbody tr th:only-of-type {\n",
              "        vertical-align: middle;\n",
              "    }\n",
              "\n",
              "    .dataframe tbody tr th {\n",
              "        vertical-align: top;\n",
              "    }\n",
              "\n",
              "    .dataframe thead th {\n",
              "        text-align: right;\n",
              "    }\n",
              "</style>\n",
              "<table border=\"1\" class=\"dataframe\">\n",
              "  <thead>\n",
              "    <tr style=\"text-align: right;\">\n",
              "      <th></th>\n",
              "      <th>Money_1d</th>\n",
              "      <th>Spend_1d</th>\n",
              "    </tr>\n",
              "  </thead>\n",
              "  <tbody>\n",
              "    <tr>\n",
              "      <th>2018-06-30</th>\n",
              "      <td>12.468868</td>\n",
              "      <td>39.827713</td>\n",
              "    </tr>\n",
              "    <tr>\n",
              "      <th>2018-07-31</th>\n",
              "      <td>33.754963</td>\n",
              "      <td>46.416488</td>\n",
              "    </tr>\n",
              "    <tr>\n",
              "      <th>2018-08-31</th>\n",
              "      <td>32.056672</td>\n",
              "      <td>42.158082</td>\n",
              "    </tr>\n",
              "    <tr>\n",
              "      <th>2018-09-30</th>\n",
              "      <td>35.058840</td>\n",
              "      <td>38.644383</td>\n",
              "    </tr>\n",
              "    <tr>\n",
              "      <th>2018-10-31</th>\n",
              "      <td>34.963409</td>\n",
              "      <td>35.299066</td>\n",
              "    </tr>\n",
              "    <tr>\n",
              "      <th>2018-11-30</th>\n",
              "      <td>36.667016</td>\n",
              "      <td>35.491669</td>\n",
              "    </tr>\n",
              "    <tr>\n",
              "      <th>2018-12-31</th>\n",
              "      <td>37.504582</td>\n",
              "      <td>34.257464</td>\n",
              "    </tr>\n",
              "    <tr>\n",
              "      <th>2019-01-31</th>\n",
              "      <td>37.488159</td>\n",
              "      <td>33.782499</td>\n",
              "    </tr>\n",
              "    <tr>\n",
              "      <th>2019-02-28</th>\n",
              "      <td>37.636313</td>\n",
              "      <td>33.304701</td>\n",
              "    </tr>\n",
              "    <tr>\n",
              "      <th>2019-03-31</th>\n",
              "      <td>38.042449</td>\n",
              "      <td>33.162653</td>\n",
              "    </tr>\n",
              "    <tr>\n",
              "      <th>2019-04-30</th>\n",
              "      <td>37.962209</td>\n",
              "      <td>32.994754</td>\n",
              "    </tr>\n",
              "    <tr>\n",
              "      <th>2019-05-31</th>\n",
              "      <td>38.042880</td>\n",
              "      <td>32.869938</td>\n",
              "    </tr>\n",
              "  </tbody>\n",
              "</table>\n",
              "</div>"
            ],
            "text/plain": [
              "             Money_1d   Spend_1d\n",
              "2018-06-30  12.468868  39.827713\n",
              "2018-07-31  33.754963  46.416488\n",
              "2018-08-31  32.056672  42.158082\n",
              "2018-09-30  35.058840  38.644383\n",
              "2018-10-31  34.963409  35.299066\n",
              "2018-11-30  36.667016  35.491669\n",
              "2018-12-31  37.504582  34.257464\n",
              "2019-01-31  37.488159  33.782499\n",
              "2019-02-28  37.636313  33.304701\n",
              "2019-03-31  38.042449  33.162653\n",
              "2019-04-30  37.962209  32.994754\n",
              "2019-05-31  38.042880  32.869938"
            ]
          },
          "metadata": {
            "tags": []
          },
          "execution_count": 37
        }
      ]
    },
    {
      "cell_type": "code",
      "metadata": {
        "id": "Zi9phf391rs9",
        "colab_type": "code",
        "colab": {}
      },
      "source": [
        ""
      ],
      "execution_count": 0,
      "outputs": []
    },
    {
      "cell_type": "code",
      "metadata": {
        "id": "w6YKHO0W6dIQ",
        "colab_type": "code",
        "colab": {}
      },
      "source": [
        ""
      ],
      "execution_count": 0,
      "outputs": []
    }
  ]
}
